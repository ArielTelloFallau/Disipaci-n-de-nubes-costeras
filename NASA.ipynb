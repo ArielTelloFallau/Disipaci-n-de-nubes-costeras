{
 "cells": [
  {
   "cell_type": "code",
   "execution_count": null,
   "id": "46c93ad1-a088-495f-b75e-3724b01ca694",
   "metadata": {},
   "outputs": [],
   "source": []
  },
  {
   "cell_type": "code",
   "execution_count": 9,
   "id": "9272a462-135b-4ce9-af84-308e91e4af6e",
   "metadata": {},
   "outputs": [],
   "source": [
    "import xarray as xr\n",
    "import numpy as np\n",
    "import datetime \n",
    "import numpy as np\n",
    "import mpmath as mp\n",
    "import pandas as pd\n",
    "from mpl_toolkits.mplot3d import Axes3D\n",
    "import matplotlib.pyplot as plt\n",
    "import matplotlib.dates as mdates\n",
    "import copy\n",
    "from sklearn.preprocessing import StandardScaler\n",
    "%matplotlib qt\n",
    "\n",
    "from matplotlib.dates import DayLocator, HourLocator, DateFormatter, drange\n",
    "import os \n",
    "from os import listdir\n",
    "from os.path import isfile, join"
   ]
  },
  {
   "cell_type": "code",
   "execution_count": 10,
   "id": "a095ed8a-c47a-40c9-80cd-5c80a7722927",
   "metadata": {},
   "outputs": [],
   "source": [
    "#fname='data/JRR-AOD_v2r3_j01_s202009152044026_e202009152045271_c202009152113150_thinned.nc'\n",
    "#fname='C:/Users/enclab01/Desktop/THESIS/AGU-python-workshop-2022-main/AGU-python-workshop-2022-main/data/JRR-AOD_v2r3_j01_s202009152044026_e202009152045271_c202009152113150_thinned.nc'\n",
    "\n",
    "\n",
    "#fname='C:/Users/enclab01/Desktop/THESIS/Datos Satelitales/JPSS2_VIIRS.20230809.L3m.DAY.RRS.Rrs_411.4km.NRT.nc'\n",
    "fname='C:/Users/enclab01/Desktop/THESIS/Datos Satelitales/MCD06COSP_D3_MODIS.A2002185.062.2022125093622.nc'\n",
    "\n",
    "#sst_file_id= xr.open_dataset(fname, engine='h5netcdf')\n",
    "sst_file_id= xr.open_dataset(fname, engine='netcdf4')\n"
   ]
  },
  {
   "cell_type": "code",
   "execution_count": 11,
   "id": "cf2c4688-aa14-49a2-bc2c-3053bc1a2318",
   "metadata": {
    "tags": []
   },
   "outputs": [],
   "source": [
    "from netCDF4 import Dataset\n",
    "dataa=Dataset('C:/Users/enclab01/Desktop/THESIS/Datos Satelitales/MCD06COSP_D3_MODIS.A2002185.062.2022125093622.nc')\n",
    "\n",
    "cloud=dataa['Cloud_Mask_Fraction/Mean'][:]\n",
    "sst_lon=dataa['longitude'][:]\n",
    "sst_lat=dataa['latitude'][:]"
   ]
  },
  {
   "cell_type": "code",
   "execution_count": 12,
   "id": "c44a1441-f2ed-4d01-b31b-e760e8668c9a",
   "metadata": {
    "tags": []
   },
   "outputs": [],
   "source": [
    "#print(cloud[:])\n",
    "#print(len(cloud[:]))\n",
    "#print(cloud[:][0])\n",
    "#print(len(cloud[:][0])) #Se accede a la longitud primero\n",
    "\n",
    "\n",
    "def value(dataset,latitud,longitud):\n",
    "    value=dataset[:][0+ (90+latitud)][180+longitud]\n",
    "    return value"
   ]
  },
  {
   "cell_type": "markdown",
   "id": "861490c5-d33a-4e4a-a725-76e3df638a7f",
   "metadata": {},
   "source": [
    "### ITERATION"
   ]
  },
  {
   "cell_type": "code",
   "execution_count": 14,
   "id": "458ef209-f2d8-4eee-9a51-f0ba25cfdc97",
   "metadata": {
    "tags": []
   },
   "outputs": [
    {
     "name": "stdout",
     "output_type": "stream",
     "text": [
      "['C:/Users/enclab01/Desktop/THESIS/Datos Satelitales/MODIS/2013/MCD06COSP_D3_MODIS.A2013001.061.2020181135157.nc', 'C:/Users/enclab01/Desktop/THESIS/Datos Satelitales/MODIS/2013/MCD06COSP_D3_MODIS.A2013002.061.2020178085034.nc', 'C:/Users/enclab01/Desktop/THESIS/Datos Satelitales/MODIS/2013/MCD06COSP_D3_MODIS.A2013003.061.2020178093018.nc', 'C:/Users/enclab01/Desktop/THESIS/Datos Satelitales/MODIS/2013/MCD06COSP_D3_MODIS.A2013004.061.2020178090546.nc', 'C:/Users/enclab01/Desktop/THESIS/Datos Satelitales/MODIS/2013/MCD06COSP_D3_MODIS.A2013005.061.2020178093124.nc', 'C:/Users/enclab01/Desktop/THESIS/Datos Satelitales/MODIS/2013/MCD06COSP_D3_MODIS.A2013006.061.2020178093924.nc', 'C:/Users/enclab01/Desktop/THESIS/Datos Satelitales/MODIS/2013/MCD06COSP_D3_MODIS.A2013007.061.2020178093105.nc', 'C:/Users/enclab01/Desktop/THESIS/Datos Satelitales/MODIS/2013/MCD06COSP_D3_MODIS.A2013008.061.2020178093107.nc', 'C:/Users/enclab01/Desktop/THESIS/Datos Satelitales/MODIS/2013/MCD06COSP_D3_MODIS.A2013009.061.2020178092048.nc', 'C:/Users/enclab01/Desktop/THESIS/Datos Satelitales/MODIS/2013/MCD06COSP_D3_MODIS.A2013010.061.2020178093124.nc', 'C:/Users/enclab01/Desktop/THESIS/Datos Satelitales/MODIS/2013/MCD06COSP_D3_MODIS.A2013011.061.2020178092151.nc', 'C:/Users/enclab01/Desktop/THESIS/Datos Satelitales/MODIS/2013/MCD06COSP_D3_MODIS.A2013012.061.2020178092018.nc', 'C:/Users/enclab01/Desktop/THESIS/Datos Satelitales/MODIS/2013/MCD06COSP_D3_MODIS.A2013013.061.2020178092122.nc', 'C:/Users/enclab01/Desktop/THESIS/Datos Satelitales/MODIS/2013/MCD06COSP_D3_MODIS.A2013014.061.2020178092043.nc', 'C:/Users/enclab01/Desktop/THESIS/Datos Satelitales/MODIS/2013/MCD06COSP_D3_MODIS.A2013015.061.2020178083901.nc', 'C:/Users/enclab01/Desktop/THESIS/Datos Satelitales/MODIS/2013/MCD06COSP_D3_MODIS.A2013016.061.2020178092057.nc', 'C:/Users/enclab01/Desktop/THESIS/Datos Satelitales/MODIS/2013/MCD06COSP_D3_MODIS.A2013017.061.2020178092043.nc', 'C:/Users/enclab01/Desktop/THESIS/Datos Satelitales/MODIS/2013/MCD06COSP_D3_MODIS.A2013018.061.2020178093733.nc', 'C:/Users/enclab01/Desktop/THESIS/Datos Satelitales/MODIS/2013/MCD06COSP_D3_MODIS.A2013019.061.2020178092029.nc']\n"
     ]
    }
   ],
   "source": [
    "def get_directory(folder):\n",
    "    files= [a for a in listdir(folder) if isfile(join(folder,a))]\n",
    "    \n",
    "    return files\n",
    "import os \n",
    "from os import listdir\n",
    "from os.path import isfile, join\n",
    "#------------------------------------------------------------------------------------------------------\n",
    "\n",
    "clouds_folder=\"C:/Users/enclab01/Desktop/THESIS/Datos Satelitales/MODIS/2013\" #2013\n",
    "\n",
    "list_of_files_clouds=get_directory(clouds_folder)\n",
    "\n",
    "#List with the paths\n",
    "newlist=[]\n",
    "for item in list_of_files_clouds:\n",
    "    newlist.append(clouds_folder+'/'+str(item))\n",
    "print(newlist)  "
   ]
  },
  {
   "cell_type": "code",
   "execution_count": 15,
   "id": "8452311b-26d1-4b25-94f8-85fe29241b78",
   "metadata": {
    "tags": []
   },
   "outputs": [
    {
     "name": "stdout",
     "output_type": "stream",
     "text": [
      "[0.7103728770830874, 0.00010899182317692188, 0.000540540528458518, 0.1118854382086483, 1.0, 0.9999271402159241, 1.0, 0.2736271116945703, 0.151475406389256, 6.802720936382709e-05, 0.0017571059038780765, 0.0006872852080056758, 0.13410788018611952, 0.35776858541283235, 0.1509588999444083, 0.2735789415475569, 0.2855290065141261, 0.4932596556101385, 0.2775716619286529]\n"
     ]
    }
   ],
   "source": [
    "\n",
    "latitud=33\n",
    "longitud=-120\n",
    "\n",
    "cloud_list=[]\n",
    "\n",
    "#for i in np.arange(0,1):\n",
    "for i in np.arange(0,len(newlist)):    \n",
    "    dataa=Dataset(newlist[i])\n",
    "    cloud=dataa['Cloud_Mask_Fraction/Mean'][:]\n",
    "    sst_lon=dataa['longitude'][:]\n",
    "    sst_lat=dataa['latitude'][:]\n",
    "    cloud_fraction=value(cloud,latitud,longitud)\n",
    "    cloud_list.append(cloud_fraction)\n",
    "    \n",
    "print(cloud_list)    "
   ]
  },
  {
   "cell_type": "code",
   "execution_count": null,
   "id": "a4875499-415a-4658-b6f6-9b950784a37f",
   "metadata": {},
   "outputs": [],
   "source": []
  },
  {
   "cell_type": "code",
   "execution_count": 16,
   "id": "6eef1e5e-14f7-4f1d-a57c-be15d3927bbb",
   "metadata": {
    "tags": []
   },
   "outputs": [
    {
     "data": {
      "text/plain": [
       "Text(0.5, 1.0, 'Cloud Fraction California: (33,-120)')"
      ]
     },
     "execution_count": 16,
     "metadata": {},
     "output_type": "execute_result"
    }
   ],
   "source": [
    "\n",
    "\n",
    "\n",
    "ysize=13\n",
    "\n",
    "ax1=plt.subplot(1,1,1)\n",
    "plt.plot(np.arange(1,len(cloud_list)+1),cloud_list,'-x')\n",
    "ax1.tick_params(axis=\"y\", labelsize=ysize, labelcolor='black')\n",
    "ax1.tick_params(axis=\"x\", labelsize=ysize, labelcolor='black')  \n",
    "plt.ylabel('Cloud Fraction (%)',fontsize=ysize,color='black')  \n",
    "plt.xlabel('Time (day)',fontsize=ysize,color='black') \n",
    "plt.title('Cloud Fraction California: ('+str(latitud)+','+str(longitud)+')', fontsize=15)"
   ]
  }
 ],
 "metadata": {
  "kernelspec": {
   "display_name": "Python 3 (ipykernel)",
   "language": "python",
   "name": "python3"
  },
  "language_info": {
   "codemirror_mode": {
    "name": "ipython",
    "version": 3
   },
   "file_extension": ".py",
   "mimetype": "text/x-python",
   "name": "python",
   "nbconvert_exporter": "python",
   "pygments_lexer": "ipython3",
   "version": "3.11.3"
  }
 },
 "nbformat": 4,
 "nbformat_minor": 5
}

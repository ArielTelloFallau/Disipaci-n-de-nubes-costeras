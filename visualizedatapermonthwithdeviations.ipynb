{
 "cells": [
  {
   "cell_type": "code",
   "execution_count": 1,
   "id": "1f75d7cc-6869-40b5-a3c3-3e51f04915fd",
   "metadata": {
    "tags": []
   },
   "outputs": [],
   "source": [
    "import xarray as xr\n",
    "import numpy as np\n",
    "import datetime \n",
    "import numpy as np\n",
    "import mpmath as mp\n",
    "import pandas as pd\n",
    "from mpl_toolkits.mplot3d import Axes3D\n",
    "import matplotlib.pyplot as plt\n",
    "import matplotlib.dates as mdates\n",
    "import copy\n",
    "from sklearn.preprocessing import StandardScaler\n",
    "%matplotlib qt\n",
    "\n",
    "from matplotlib.dates import DayLocator, HourLocator, DateFormatter, drange\n",
    "import os \n",
    "from os import listdir\n",
    "from os.path import isfile, join\n",
    "\n",
    "def get_directory(folder):\n",
    "    files= [a for a in listdir(folder) if isfile(join(folder,a))]\n",
    "    \n",
    "    return files\n",
    "import os \n",
    "from os import listdir\n",
    "from os.path import isfile, join\n",
    "\n"
   ]
  },
  {
   "cell_type": "markdown",
   "id": "b0389688-937b-41f1-97fc-dc7fd56c2d5d",
   "metadata": {},
   "source": [
    "## DATA COD"
   ]
  },
  {
   "cell_type": "code",
   "execution_count": 2,
   "id": "acf90cd7-1a2f-4941-ad63-2b8b7a32b3eb",
   "metadata": {
    "tags": []
   },
   "outputs": [
    {
     "name": "stdout",
     "output_type": "stream",
     "text": [
      "['C:/Users/enclab01/Desktop/THESIS/codigos tesis/Datos Point Sur/Agosto2022/Mes01.txt', 'C:/Users/enclab01/Desktop/THESIS/codigos tesis/Datos Point Sur/Agosto2022/Mes02.txt', 'C:/Users/enclab01/Desktop/THESIS/codigos tesis/Datos Point Sur/Agosto2022/Mes03.txt', 'C:/Users/enclab01/Desktop/THESIS/codigos tesis/Datos Point Sur/Agosto2022/Mes04.txt', 'C:/Users/enclab01/Desktop/THESIS/codigos tesis/Datos Point Sur/Agosto2022/Mes05.txt', 'C:/Users/enclab01/Desktop/THESIS/codigos tesis/Datos Point Sur/Agosto2022/Mes06.txt', 'C:/Users/enclab01/Desktop/THESIS/codigos tesis/Datos Point Sur/Agosto2022/Mes07.txt', 'C:/Users/enclab01/Desktop/THESIS/codigos tesis/Datos Point Sur/Agosto2022/Mes08.txt', 'C:/Users/enclab01/Desktop/THESIS/codigos tesis/Datos Point Sur/Agosto2022/Mes09.txt', 'C:/Users/enclab01/Desktop/THESIS/codigos tesis/Datos Point Sur/Agosto2022/Mes10.txt', 'C:/Users/enclab01/Desktop/THESIS/codigos tesis/Datos Point Sur/Agosto2022/Mes11.txt', 'C:/Users/enclab01/Desktop/THESIS/codigos tesis/Datos Point Sur/Agosto2022/Mes12.txt', 'C:/Users/enclab01/Desktop/THESIS/codigos tesis/Datos Point Sur/Agosto2022/Mes13.txt', 'C:/Users/enclab01/Desktop/THESIS/codigos tesis/Datos Point Sur/Agosto2022/Mes14.txt']\n",
      "ssss                     index       COD  COD deviations  DQF  DQF deviations  \\\n",
      "0     2022-08-01 12:01:00  2.005799         0.30167  1.0        0.000000   \n",
      "1     2022-08-01 12:02:00       NaN             NaN  NaN             NaN   \n",
      "2     2022-08-01 12:03:00       NaN             NaN  NaN             NaN   \n",
      "3     2022-08-01 12:04:00       NaN             NaN  NaN             NaN   \n",
      "4     2022-08-01 12:05:00       NaN             NaN  NaN             NaN   \n",
      "...                   ...       ...             ...  ...             ...   \n",
      "41771 2022-08-30 12:12:00       NaN             NaN  NaN             NaN   \n",
      "41772 2022-08-30 12:13:00       NaN             NaN  NaN             NaN   \n",
      "41773 2022-08-30 12:14:00       NaN             NaN  NaN             NaN   \n",
      "41774 2022-08-30 12:15:00       NaN             NaN  NaN             NaN   \n",
      "41775 2022-08-30 12:16:00  2.658935         0.00000  9.5        5.894913   \n",
      "\n",
      "       Rolling               t_utc  \n",
      "0          NaN 2022-08-01 12:01:00  \n",
      "1          NaN 2022-08-01 12:02:00  \n",
      "2          NaN 2022-08-01 12:03:00  \n",
      "3          NaN 2022-08-01 12:04:00  \n",
      "4          NaN 2022-08-01 12:05:00  \n",
      "...        ...                 ...  \n",
      "41771      NaN 2022-08-30 12:12:00  \n",
      "41772      NaN 2022-08-30 12:13:00  \n",
      "41773      NaN 2022-08-30 12:14:00  \n",
      "41774      NaN 2022-08-30 12:15:00  \n",
      "41775      NaN 2022-08-30 12:16:00  \n",
      "\n",
      "[41776 rows x 7 columns]\n"
     ]
    }
   ],
   "source": [
    "#data_folder=\"C:/Users/enclab01/Desktop/THESIS/codigos tesis/dataseptiembre\"\n",
    "#data_folder=\"C:/Users/enclab01/Desktop/THESIS/codigos tesis/Datos Point Sur/Septiembre2022\"\n",
    "data_folder=\"C:/Users/enclab01/Desktop/THESIS/codigos tesis/Datos Point Sur/Agosto2022\"\n",
    "list_of_files=get_directory(data_folder)\n",
    "\n",
    "#List with the paths\n",
    "newlist=[]\n",
    "for item in list_of_files:\n",
    "    newlist.append(data_folder+'/'+str(item))\n",
    "print(newlist)\n",
    "\n",
    "import GOES\n",
    "\n",
    "MM_final_table=[]\n",
    "for item in newlist:\n",
    "    #Importing data\n",
    "    titles=['Dates_and_Hours', 'COD', 'COD deviations','DQF', 'DQF deviations']\n",
    "    data= pd.read_table(str(item), header=None, names=titles, sep='\\t')\n",
    "    data2=data.iloc[np.arange(1,len(data)),:] #delete the first row\n",
    "    data2=data2.reset_index(drop=True)\n",
    "    MM_final_table.append(data2)\n",
    "\n",
    "    \n",
    "'merge the dataframes'\n",
    "df1=MM_final_table[0]\n",
    "for i in np.arange(1,len(MM_final_table)):\n",
    "    df1=pd.concat([df1, MM_final_table[i]])\n",
    "df1= df1.reset_index() \n",
    "\n",
    "\n",
    "df1['COD']=df1['COD'].astype(float)\n",
    "df1['DQF']=df1['DQF'].astype(float)\n",
    "df1['COD deviations']=df1['COD deviations'].astype(float)\n",
    "df1['DQF deviations']=df1['DQF deviations'].astype(float)\n",
    "'Reemplazar los valores que sean mayores a 50 por 55 por nans'\n",
    "df1['COD'] = df1['COD'].apply(lambda x: np.nan if x > 50 else x)    \n",
    "     \n",
    "\n",
    "\n",
    "'We are only interested after the sunrise'\n",
    "df1['Dates_and_Hours2']=pd.to_datetime(df1['Dates_and_Hours'])\n",
    "filtro_inicio = df1['Dates_and_Hours2'].dt.hour >= 12\n",
    "df1 = df1[filtro_inicio] \n",
    "df1= df1.reset_index() \n",
    "df1=df1[['Dates_and_Hours','COD', 'COD deviations','DQF', 'DQF deviations']]\n",
    "\n",
    "\n",
    "\n",
    "'Drop the nans'\n",
    "check_for_nan_1 = df1['COD'].isnull()\n",
    "data_copy = df1.copy()\n",
    "for i in np.arange(0,len(df1)):\n",
    "    if check_for_nan_1[i]==True:\n",
    "        data_copy.drop(i, axis=0, inplace=True)\n",
    "df1=data_copy\n",
    "df1= df1.reset_index() \n",
    "\n",
    "\n",
    "df1=df1[['Dates_and_Hours','COD','COD deviations' ,'DQF', 'DQF deviations']]\n",
    "# Ordenar en orden ascendente por la columna 'fecha'\n",
    "df1 = df1.sort_values(by='Dates_and_Hours', ascending=True)  \n",
    "\n",
    "\n",
    "'Rolling average'\n",
    "df1['Rolling']=df1['COD'].rolling(10,center=True).mean()    \n",
    "\n",
    "\n",
    "'1 minute resample'\n",
    "#Resample\n",
    "df1['index'] = pd.to_datetime(df1['Dates_and_Hours'])\n",
    "df1.set_index('index', inplace=True)\n",
    "df1=df1.resample('1T').mean()\n",
    "df1['t_utc'] = pd.to_datetime(df1.index.values)\n",
    "df1= df1.reset_index()\n",
    "\n",
    "# Ordenar en orden ascendente por la columna 'fecha'\n",
    "df1 = df1.sort_values(by='t_utc', ascending=True)\n",
    "  \n",
    "print('ssss',df1)\n",
    "\n",
    "\n",
    "\n",
    "# -----------------------------------------------------------------    \n",
    "'Veamos que pasa con un interpolate'    \n",
    "    \n",
    "time2=pd.to_datetime(df1['t_utc'])\n",
    "# Interpolar los valores NaN en el DataFrame df\n",
    "df2 = df1['COD'].interpolate(method='linear')\n",
    "  \n",
    "COD_values2=df2\n",
    "COD_values2=COD_values2.astype(float)  \n",
    "\n",
    "df3 = df1['Rolling'].interpolate(method='linear')\n",
    "   \n",
    "COD_values3=df3\n",
    "COD_values3=COD_values3.astype(float)  \n",
    "\n",
    "# -----------------------------------------------------------------    \n",
    "    \n",
    "'Drop the nans'\n",
    "check_for_nan_1 = df1['COD'].isnull()\n",
    "data_copy = df1.copy()\n",
    "for i in np.arange(0,len(df1)):\n",
    "    if check_for_nan_1[i]==True:\n",
    "        data_copy.drop(i, axis=0, inplace=True)\n",
    "df1=data_copy\n",
    "df1= df1.reset_index() \n",
    "\n",
    "df1=df1[['t_utc','COD','COD deviations' ,'DQF', 'DQF deviations','Rolling']] \n",
    "\n",
    "\n",
    "\n",
    "time=pd.to_datetime(df1['t_utc'])\n",
    "COD_values=df1['COD']\n",
    "DQF_values=df1['DQF']\n",
    "COD_deviations=df1['COD deviations']\n",
    "DQF_deviations=df1['DQF deviations']\n"
   ]
  },
  {
   "cell_type": "code",
   "execution_count": 3,
   "id": "73d0e85a-7fa3-4c78-81ca-7a164cfa67b0",
   "metadata": {
    "tags": []
   },
   "outputs": [
    {
     "name": "stdout",
     "output_type": "stream",
     "text": [
      "                  t_utc       COD  COD deviations  DQF  DQF deviations  \\\n",
      "0   2022-08-01 12:01:00  2.005799        0.301670  1.0        0.000000   \n",
      "1   2022-08-01 12:06:00  1.487563        0.768959  1.0        0.000000   \n",
      "2   2022-08-01 12:11:00  1.557760        0.514446  1.0        0.000000   \n",
      "3   2022-08-01 12:16:00  2.773692        1.226411  1.0        0.000000   \n",
      "4   2022-08-01 12:21:00  3.322448        0.594318  1.0        0.000000   \n",
      "..                  ...       ...             ...  ...             ...   \n",
      "338 2022-08-29 15:41:00  4.224020        0.000000  5.5        0.866025   \n",
      "339 2022-08-29 16:26:00  4.272852        0.000000  4.5        2.598076   \n",
      "340 2022-08-29 16:36:00  7.483596        0.000000  4.5        2.598076   \n",
      "341 2022-08-29 16:51:00  6.182207        0.000000  4.5        2.598076   \n",
      "342 2022-08-30 12:16:00  2.658935        0.000000  9.5        5.894913   \n",
      "\n",
      "      Rolling  \n",
      "0         NaN  \n",
      "1         NaN  \n",
      "2         NaN  \n",
      "3         NaN  \n",
      "4         NaN  \n",
      "..        ...  \n",
      "338  4.913292  \n",
      "339       NaN  \n",
      "340       NaN  \n",
      "341       NaN  \n",
      "342       NaN  \n",
      "\n",
      "[343 rows x 6 columns]\n"
     ]
    }
   ],
   "source": [
    "\n",
    "print(df1)\n",
    "\n",
    "\n"
   ]
  },
  {
   "cell_type": "code",
   "execution_count": null,
   "id": "a8bf3be6-b60e-4cc5-bd8b-5918a5507c17",
   "metadata": {},
   "outputs": [],
   "source": []
  },
  {
   "cell_type": "markdown",
   "id": "4de5937b-832d-47a0-9e46-92629cf20324",
   "metadata": {},
   "source": [
    "## DATA ALTITUDE"
   ]
  },
  {
   "cell_type": "code",
   "execution_count": 4,
   "id": "03a240de-d03f-4d2a-9b55-61af599bb884",
   "metadata": {
    "tags": []
   },
   "outputs": [
    {
     "name": "stdout",
     "output_type": "stream",
     "text": [
      "['C:/Users/enclab01/Desktop/THESIS/codigos tesis/Datos San Nicolas/dataseptiembrealtura/Septiembre2022-01.txt', 'C:/Users/enclab01/Desktop/THESIS/codigos tesis/Datos San Nicolas/dataseptiembrealtura/Septiembre2022-02.txt', 'C:/Users/enclab01/Desktop/THESIS/codigos tesis/Datos San Nicolas/dataseptiembrealtura/Septiembre2022-03.txt', 'C:/Users/enclab01/Desktop/THESIS/codigos tesis/Datos San Nicolas/dataseptiembrealtura/Septiembre2022-04.txt', 'C:/Users/enclab01/Desktop/THESIS/codigos tesis/Datos San Nicolas/dataseptiembrealtura/Septiembre2022-05.txt', 'C:/Users/enclab01/Desktop/THESIS/codigos tesis/Datos San Nicolas/dataseptiembrealtura/Septiembre2022-06.txt', 'C:/Users/enclab01/Desktop/THESIS/codigos tesis/Datos San Nicolas/dataseptiembrealtura/Septiembre2022-07.txt', 'C:/Users/enclab01/Desktop/THESIS/codigos tesis/Datos San Nicolas/dataseptiembrealtura/Septiembre2022-08.txt', 'C:/Users/enclab01/Desktop/THESIS/codigos tesis/Datos San Nicolas/dataseptiembrealtura/Septiembre2022-09.txt', 'C:/Users/enclab01/Desktop/THESIS/codigos tesis/Datos San Nicolas/dataseptiembrealtura/Septiembre2022-10.txt', 'C:/Users/enclab01/Desktop/THESIS/codigos tesis/Datos San Nicolas/dataseptiembrealtura/Septiembre2022-11.txt', 'C:/Users/enclab01/Desktop/THESIS/codigos tesis/Datos San Nicolas/dataseptiembrealtura/Septiembre2022-12.txt', 'C:/Users/enclab01/Desktop/THESIS/codigos tesis/Datos San Nicolas/dataseptiembrealtura/Septiembre2022-13.txt', 'C:/Users/enclab01/Desktop/THESIS/codigos tesis/Datos San Nicolas/dataseptiembrealtura/Septiembre2022-14.txt']\n",
      "                 Dates_and_Hours         HT  DQF\n",
      "0     2022-09-01 00:01:17.736182  12510.910  0.0\n",
      "1     2022-09-01 00:06:17.736186  12494.124  0.0\n",
      "2     2022-09-01 00:11:17.736185  12467.571  0.0\n",
      "3     2022-09-01 00:16:17.736182  12481.000  0.0\n",
      "4     2022-09-01 00:21:17.737981  12244.468  0.0\n",
      "...                          ...        ...  ...\n",
      "4139  2022-09-30 23:36:17.700203  11197.619  0.0\n",
      "4140  2022-09-30 23:41:17.700283  11260.796  0.0\n",
      "4141  2022-09-30 23:46:17.700373  11532.122  0.0\n",
      "4142  2022-09-30 23:51:17.700464  10425.453  0.0\n",
      "4143  2022-09-30 23:56:17.702354   9568.747  0.0\n",
      "\n",
      "[4144 rows x 3 columns]\n"
     ]
    }
   ],
   "source": [
    "data_folder=\"C:/Users/enclab01/Desktop/THESIS/codigos tesis/Datos San Nicolas/dataseptiembrealtura\"\n",
    "list_of_files=get_directory(data_folder)\n",
    "\n",
    "#List with the paths\n",
    "newlist=[]\n",
    "for item in list_of_files:\n",
    "    newlist.append(data_folder+'/'+str(item))\n",
    "print(newlist)\n",
    "\n",
    "import GOES\n",
    "\n",
    "MM_final_table=[]\n",
    "for item in newlist:\n",
    "    #Importing data\n",
    "    titles=['Dates_and_Hours', 'HT', 'DQF']\n",
    "    data= pd.read_table(str(item), header=None, names=titles, sep='\\t',parse_dates=['Dates_and_Hours'])\n",
    "    data2=data.iloc[np.arange(1,len(data)),:] #delete the first row\n",
    "    data2=data2.reset_index(drop=True)\n",
    "    MM_final_table.append(data2)\n",
    "\n",
    "\n",
    "'merge the dataframes'\n",
    "df2=MM_final_table[0]\n",
    "for i in np.arange(1,len(MM_final_table)):\n",
    "    df2=pd.concat([df2, MM_final_table[i]])\n",
    "df2= df2.reset_index() \n",
    "\n",
    "\n",
    "'Drop the nans'\n",
    "check_for_nan_1 = df2['HT'].isnull()\n",
    "data_copy = df2.copy()\n",
    "for i in np.arange(0,len(df2)):\n",
    "    if check_for_nan_1[i]==True:\n",
    "        data_copy.drop(i, axis=0, inplace=True)\n",
    "df2=data_copy\n",
    "df2= df2.reset_index() \n",
    "\n",
    "\n",
    "# Ordenar en orden ascendente por la columna 'fecha'\n",
    "df2 = df2.sort_values(by='Dates_and_Hours', ascending=True)\n",
    "\n",
    "\n",
    "df2['HT']=df2['HT'].astype(float)\n",
    "df2['DQF']=df2['DQF'].astype(float)\n",
    "\n",
    "# 'Reemplazar los valores que sean mayores a 50 por 55 para que sea mas facil el analisis de datos'\n",
    "# Reemplazar los valores mayores que 50 por 55 en la columna 'columna_valor'\n",
    "# df1['COD'] = df1['COD'].apply(lambda x: 55 if x > 50 else x)\n",
    "\n",
    "df2=df2[['Dates_and_Hours','HT','DQF']]\n",
    "print(df2)\n",
    "\n",
    "#time2=pd.to_datetime(df2['Dates_and_Hours'])\n",
    "HT_values=df2['HT']\n",
    "DQF_values2=df2['DQF']\n",
    " "
   ]
  },
  {
   "cell_type": "code",
   "execution_count": 5,
   "id": "b21c9632-e087-4199-914a-09241c1491f7",
   "metadata": {
    "tags": []
   },
   "outputs": [],
   "source": [
    "#------------------------------------------------------------------------------\n",
    "#Resample\n",
    "df2['index'] = pd.to_datetime(df2['Dates_and_Hours'])\n",
    "df2.set_index('index', inplace=True)\n",
    "data2=df2.resample('1T').mean()\n",
    "\n",
    "data2['t_utc'] = pd.to_datetime(data2.index.values)\n",
    "data2= data2.reset_index()\n",
    "\n",
    "altitudekm=[]\n",
    "\n",
    "for item in data2['HT']:\n",
    "    altitudekm.append(item/1000)\n",
    "\n",
    "'----------------------------------------------------------------------------'\n",
    "fig, ax = plt.subplots(1)\n",
    "fig.autofmt_xdate()\n",
    "#plt.plot(time, COD_values,'-x',c='black') \n",
    "#plt.plot(time, derivative,'-.',c='red') \n",
    "plt.plot(data2['t_utc'],altitudekm,'-x')\n",
    " \n",
    "plt.ylabel('Altitude (Km)')\n",
    "plt.xlabel('Time (UTC)')\n",
    "xfmt = mdates.DateFormatter('%b %d %H:%M')\n",
    "ax.xaxis.set_major_formatter(xfmt)"
   ]
  },
  {
   "cell_type": "markdown",
   "id": "558c2f07-f278-4e53-8f99-dfa0267a9362",
   "metadata": {},
   "source": [
    "## ALGORITHM"
   ]
  },
  {
   "cell_type": "code",
   "execution_count": 6,
   "id": "bc9de5b9-e6ce-4d3c-8bab-baaf178a0c1a",
   "metadata": {
    "tags": []
   },
   "outputs": [
    {
     "name": "stdout",
     "output_type": "stream",
     "text": [
      "10\n",
      "7\n"
     ]
    }
   ],
   "source": [
    "from scipy.signal import find_peaks\n",
    "from scipy.signal import find_peaks, savgol_filter\n",
    "\n",
    "\n",
    "'PEAKS DATOS ORIGINALES'\n",
    "\n",
    "indicess = find_peaks(COD_values, height=0.00002, prominence=(None, 4000), width=(0.000002, 4000),  rel_height=1)\n",
    "index=indicess[0]\n",
    "\n",
    "pir=[]\n",
    "widths=[]\n",
    "for m in np.arange(0,len(indicess[1]['peak_heights'])):\n",
    "    pir.append([indicess[0][m],indicess[1]['prominences'][m],indicess[1]['peak_heights'][m],abs(indicess[1]['right_ips'][m]-indicess[1]['left_ips'][m])])\n",
    "    widths.append(indicess[1]['widths'][m])    \n",
    "    \n",
    "'ROLLING AVERAGE'\n",
    "\n",
    "#Transform a list into a data column\n",
    "df = pd.DataFrame({'col':COD_values})\n",
    "dqfvalues=df['col']\n",
    "rolling=dqfvalues.rolling(10,center=True).mean()\n",
    "\n",
    "#'peaks rolling'\n",
    "#indicesrolling,properties = find_peaks(rolling,prominence=1,width=5,  rel_height=1)\n",
    "    \n",
    "    \n",
    "'peaks rolling tras el resample'\n",
    "indicesrolling, properties = find_peaks(COD_values3, prominence=1,width=5,  rel_height=1)\n",
    "print(len(indicesrolling)) \n",
    "print(len(properties)) "
   ]
  },
  {
   "cell_type": "code",
   "execution_count": 7,
   "id": "a22498fb-a33e-4d87-94cf-698d522fd4fe",
   "metadata": {
    "tags": []
   },
   "outputs": [
    {
     "name": "stdout",
     "output_type": "stream",
     "text": [
      "            Time_left          Time_right   Left  Right  Minutes  Prominences\n",
      "0 2022-08-01 13:38:00 2022-08-01 16:21:00     97    260    163.0    12.337598\n",
      "1 2022-08-01 16:37:00 2022-08-02 12:46:00    276   1485   1209.0     6.966255\n",
      "2 2022-08-01 13:08:00 2022-08-05 16:46:00     67   6045   5978.0    13.419463\n",
      "3 2022-08-02 19:51:00 2022-08-05 16:41:00   1910   6040   4130.0     5.558839\n",
      "4 2022-08-02 23:56:00 2022-08-05 12:03:00   2155   5762   3607.0     2.248273\n",
      "5 2022-08-05 12:16:00 2022-08-05 14:19:00   5775   5898    123.0     3.304380\n",
      "6 2022-08-06 21:58:00 2022-08-28 13:11:00   7797  38950  31153.0     4.446982\n",
      "7 2022-08-28 13:35:00 2022-08-28 16:11:00  38974  39130    156.0     4.590143\n",
      "8 2022-08-06 13:14:00 2022-08-29 13:11:00   7273  40390  33117.0    12.404070\n",
      "9 2022-08-29 12:06:00 2022-08-29 12:40:00  40325  40359     34.0     1.073829\n"
     ]
    }
   ],
   "source": [
    "import math\n",
    "from datetime import datetime, timedelta\n",
    "\n",
    "\n",
    "left=[]\n",
    "right=[]\n",
    "time_left=[]\n",
    "time_right=[]\n",
    "minutes=[]\n",
    "for i in np.arange(0,len(indicesrolling)):\n",
    "    left.append(math.floor(properties[\"left_ips\"][i]))\n",
    "    right.append(math.ceil(properties[\"right_ips\"][i]))\n",
    "    time_left.append(time2[math.floor(properties[\"left_ips\"][i])])\n",
    "    time_right.append(time2[math.ceil(properties[\"right_ips\"][i])])\n",
    "    \n",
    "    diferencia= time2[math.ceil(properties[\"right_ips\"][i])] - time2[math.floor(properties[\"left_ips\"][i])] \n",
    "    minutos_diferencia = diferencia.total_seconds()/60\n",
    "    minutes.append(minutos_diferencia)\n",
    "    \n",
    "    \n",
    "#Create a dataframe with all the variables needed for the analysis \n",
    "dataframe = pd.DataFrame({'Time_left':time_left,'Time_right':time_right,'Left':left,'Right':right, 'Minutes': minutes, 'Prominences': properties[\"prominences\"]})  \n",
    "print(dataframe)"
   ]
  },
  {
   "cell_type": "markdown",
   "id": "0611da93-2dc5-4aa5-a643-8c70007d4825",
   "metadata": {
    "tags": []
   },
   "source": [
    "## Histogram"
   ]
  },
  {
   "cell_type": "code",
   "execution_count": 8,
   "id": "39d1f446-6e1a-4ee2-8b88-62ca977e7635",
   "metadata": {
    "tags": []
   },
   "outputs": [
    {
     "data": {
      "text/plain": [
       "Text(0, 0.5, 'Count (nº Events)')"
      ]
     },
     "execution_count": 8,
     "metadata": {},
     "output_type": "execute_result"
    }
   ],
   "source": [
    "plt.figure()\n",
    "plt.hist(dataframe[\"Minutes\"],bins=200,range=(0,3150))\n",
    "plt.xlabel('Length of Cloud Dissipation (minutes)')\n",
    "plt.ylabel('Count (nº Events)')"
   ]
  },
  {
   "cell_type": "code",
   "execution_count": 9,
   "id": "73cf02bb-dcf7-4b95-8e2d-21d4c44199f7",
   "metadata": {},
   "outputs": [
    {
     "data": {
      "text/plain": [
       "Text(0, 0.5, 'Count (nº Events)')"
      ]
     },
     "execution_count": 9,
     "metadata": {},
     "output_type": "execute_result"
    }
   ],
   "source": [
    "plt.figure()\n",
    "plt.hist(dataframe[\"Prominences\"],bins=200,range=(0,30))\n",
    "plt.xlabel('Delta COD')\n",
    "plt.ylabel('Count (nº Events)')"
   ]
  },
  {
   "cell_type": "markdown",
   "id": "d9d4bf09-2a5b-49bc-8e97-aacb8d644eb2",
   "metadata": {
    "tags": []
   },
   "source": [
    "## 2D HISTOGRAM"
   ]
  },
  {
   "cell_type": "code",
   "execution_count": 10,
   "id": "12bfebb2-52a5-4250-9441-6d22477bddf1",
   "metadata": {
    "tags": []
   },
   "outputs": [
    {
     "data": {
      "text/plain": [
       "Text(0, 0.5, 'COD variations')"
      ]
     },
     "execution_count": 10,
     "metadata": {},
     "output_type": "execute_result"
    }
   ],
   "source": [
    "x=dataframe[\"Minutes\"]\n",
    "xx=x.astype(float)\n",
    "y=dataframe[\"Prominences\"]\n",
    "yy=y.astype(float)\n",
    "\n",
    "xedges=50\n",
    "yedges=50\n",
    "xmin=0\n",
    "xmax=600\n",
    "ymin=0\n",
    "ymax=10  \n",
    "\n",
    "HHH, xedges, yedges= np.histogram2d(xx,yy, bins=(xedges,yedges), range=[[xmin,xmax],[ymin,ymax]])\n",
    "\n",
    "extent = [xmin,xmax, ymin, ymax]\n",
    "\n",
    "fig, ax= plt.subplots()\n",
    "\n",
    "im=ax.imshow(HHH.T ,origin='lower', extent=extent, aspect='auto')\n",
    "plt.colorbar(im, label='# Dissipation events per bin')\n",
    "#plt.clim(0,0.001) #This limit shows how to low values looks like\n",
    "\n",
    "#ax.set_facecolor((0.8,0.8,0.8))\n",
    "ax.set_facecolor('grey')\n",
    "plt.xlabel('Length of Cloud Dissipation (minutes)',fontsize=12)\n",
    "plt.ylabel('COD variations', fontsize=12)"
   ]
  },
  {
   "cell_type": "markdown",
   "id": "ff5e4f7e-1fdf-44bb-8f8c-b004c805d618",
   "metadata": {},
   "source": [
    "##  OTROS GRAFICOS"
   ]
  },
  {
   "cell_type": "code",
   "execution_count": null,
   "id": "e1ae1020-4c1f-4bde-980e-daa12071b8a3",
   "metadata": {
    "tags": []
   },
   "outputs": [],
   "source": []
  },
  {
   "cell_type": "code",
   "execution_count": 11,
   "id": "9e44e9e2-9eb4-461f-bfc6-90b957f80f0d",
   "metadata": {
    "tags": []
   },
   "outputs": [
    {
     "name": "stdout",
     "output_type": "stream",
     "text": [
      "135.0\n"
     ]
    }
   ],
   "source": [
    "from datetime import datetime, timedelta\n",
    "\n",
    "# Definir dos objetos de fecha y hora\n",
    "fecha1 = datetime(2023, 9, 11, 10, 30)  # Año, mes, día, hora, minutos\n",
    "fecha2 = datetime(2023, 9, 11, 12, 45)\n",
    "\n",
    "# Calcular la diferencia entre las dos fechas y obtener el resultado en minutos\n",
    "diferencia = fecha2 - fecha1\n",
    "minutos_diferencia = diferencia.total_seconds() / 60\n",
    "\n",
    "print(minutos_diferencia)"
   ]
  },
  {
   "cell_type": "code",
   "execution_count": 12,
   "id": "e33ee88c-5ae4-4449-b476-340d89eb26ae",
   "metadata": {
    "tags": []
   },
   "outputs": [],
   "source": [
    "'----------------------------------------------------------------------------'\n",
    "\n",
    "fig, ax = plt.subplots(1)\n",
    "fig.autofmt_xdate()\n",
    "\n",
    "#plt.plot(time2, COD_values2,'-x',c='red')\n",
    "#plt.plot(time2, COD_values3,'-x',c='purple') \n",
    "\n",
    "# Crear el gráfico de línea con barras de error\n",
    "plt.errorbar(time, COD_values, yerr=COD_deviations, linestyle='-', marker='o', capsize=5, label='Datos con error')\n",
    "\n",
    "plt.plot(time, COD_values,'-x',c='black') \n",
    " \n",
    "    \n",
    "#plt.plot(time, derivative,'-.',c='red') \n",
    "#plt.plot(time, rolling,'X',c='black') \n",
    " \n",
    "plt.ylabel('COD Measurements')\n",
    "plt.xlabel('Time (UTC)')\n",
    "xfmt = mdates.DateFormatter('%b %d %H:%M')\n",
    "ax.xaxis.set_major_formatter(xfmt)\n"
   ]
  },
  {
   "cell_type": "code",
   "execution_count": 13,
   "id": "d26e91e4-baa4-4818-a227-ec141dc09ad9",
   "metadata": {},
   "outputs": [],
   "source": [
    "import matplotlib.pyplot as plt\n",
    "import numpy as np\n",
    "\n",
    "# Tus datos\n",
    "plt.figure()\n",
    "x = np.arange(1, 6)  # Valores en el eje x\n",
    "datos = [1, 2, 3, 4, 5]  # Reemplaza esto con tus propios datos\n",
    "desviaciones_estandar = [0.1, 0.2, 0.1, 0.3, 0.15]  # Reemplaza esto con tus propias desviaciones estándar\n",
    "\n",
    "# Crear el gráfico de línea con barras de error\n",
    "plt.errorbar(x, datos, yerr=desviaciones_estandar, linestyle='-', marker='o', capsize=5, label='Datos con error')\n",
    "\n",
    "# Personalizar el gráfico\n",
    "plt.xlabel('Categorías')\n",
    "plt.ylabel('Datos')\n",
    "plt.title('Gráfico de Línea con Barras de Error')\n",
    "plt.xticks(x, ['C1', 'C2', 'C3', 'C4', 'C5'])  # Reemplaza con tus etiquetas de categoría\n",
    "plt.grid(True, axis='y', linestyle='--', alpha=0.7)\n",
    "plt.legend()\n",
    "\n",
    "# Mostrar el gráfico\n",
    "plt.tight_layout()\n",
    "plt.show()"
   ]
  },
  {
   "cell_type": "code",
   "execution_count": 14,
   "id": "6b44189c-6d4b-45b4-b60e-84802a1259e3",
   "metadata": {
    "tags": []
   },
   "outputs": [
    {
     "data": {
      "text/plain": [
       "0             NaN\n",
       "1             NaN\n",
       "2             NaN\n",
       "3             NaN\n",
       "4             NaN\n",
       "           ...   \n",
       "41771    4.913292\n",
       "41772    4.913292\n",
       "41773    4.913292\n",
       "41774    4.913292\n",
       "41775    4.913292\n",
       "Name: Rolling, Length: 41776, dtype: float64"
      ]
     },
     "execution_count": 14,
     "metadata": {},
     "output_type": "execute_result"
    }
   ],
   "source": [
    "COD_values3"
   ]
  },
  {
   "cell_type": "markdown",
   "id": "b3012a89-af62-4936-aca8-c683bd004222",
   "metadata": {},
   "source": [
    "## NUEVO PLOT PARA VISUALIZAR LOS ANCHOS"
   ]
  },
  {
   "cell_type": "code",
   "execution_count": 15,
   "id": "185c1c4a-2fc2-45b0-8481-604fc43dbdaa",
   "metadata": {
    "tags": []
   },
   "outputs": [],
   "source": [
    "'----------------------------------------------------------------------------'\n",
    "sas=np.arange(0,len(time2))\n",
    "fig, ax = plt.subplots(1)\n",
    "\n",
    "'Ploteamos el rolling average'\n",
    "plt.plot( sas , COD_values3,'-x',c='black') \n",
    " \n",
    "    \n",
    "plt.ylabel('COD Measurements')\n",
    "plt.xlabel('Time (UTC)')\n",
    "\n",
    "plt.vlines(x=sas[indicesrolling], ymin=COD_values3[indicesrolling] - properties[\"prominences\"],\n",
    "           ymax = COD_values3[indicesrolling], color = \"C1\")\n",
    "plt.hlines(y=properties[\"width_heights\"], xmin=properties[\"left_ips\"],\n",
    "           xmax=properties[\"right_ips\"], color = \"C1\")\n",
    "\n",
    "plt.plot(properties[\"left_ips\"], properties[\"width_heights\"],'X',c='red')\n",
    "plt.plot(properties[\"right_ips\"], properties[\"width_heights\"],'X',c='blue')\n",
    "\n",
    "\n",
    "# Plotea líneas verticales en cada punto\n",
    "for i in range(len(left)):\n",
    "    ax.vlines(left[i], ymin=COD_values3[left[i]], ymax=COD_values3[left[i]]+10, color='purple', linestyle='-', alpha=0.5)\n",
    "# Plotea líneas verticales en cada punto\n",
    "for i in range(len(right)):\n",
    "    ax.vlines(right[i], ymin=COD_values3[right[i]], ymax=COD_values3[right[i]]+10, color='purple', linestyle='-', alpha=0.5)\n"
   ]
  },
  {
   "cell_type": "code",
   "execution_count": null,
   "id": "532f0df2-8299-40bb-94a2-c34951c00cf6",
   "metadata": {},
   "outputs": [],
   "source": []
  },
  {
   "cell_type": "code",
   "execution_count": null,
   "id": "47811e4c-16d8-4a3b-a847-875183ccf33e",
   "metadata": {},
   "outputs": [],
   "source": []
  },
  {
   "cell_type": "code",
   "execution_count": null,
   "id": "28ddbd42-c7cb-4cfd-9a45-c572e1142a31",
   "metadata": {},
   "outputs": [],
   "source": []
  },
  {
   "cell_type": "code",
   "execution_count": 16,
   "id": "ff36fb75-dba7-41b5-83b4-f8c1751f9453",
   "metadata": {
    "tags": []
   },
   "outputs": [
    {
     "ename": "ValueError",
     "evalue": "x and y must have same first dimension, but have shapes (41776,) and (4144,)",
     "output_type": "error",
     "traceback": [
      "\u001b[1;31m---------------------------------------------------------------------------\u001b[0m",
      "\u001b[1;31mValueError\u001b[0m                                Traceback (most recent call last)",
      "Cell \u001b[1;32mIn[16], line 17\u001b[0m\n\u001b[0;32m     15\u001b[0m ax1\u001b[38;5;241m=\u001b[39mplt\u001b[38;5;241m.\u001b[39msubplot(\u001b[38;5;241m211\u001b[39m,sharex\u001b[38;5;241m=\u001b[39max2)\n\u001b[0;32m     16\u001b[0m figsize\u001b[38;5;241m=\u001b[39m(\u001b[38;5;241m20\u001b[39m,\u001b[38;5;241m4\u001b[39m)\n\u001b[1;32m---> 17\u001b[0m plt\u001b[38;5;241m.\u001b[39mplot(time2,HT_values ,\u001b[38;5;124m'\u001b[39m\u001b[38;5;124m-x\u001b[39m\u001b[38;5;124m'\u001b[39m,color\u001b[38;5;241m=\u001b[39m\u001b[38;5;124m'\u001b[39m\u001b[38;5;124mblack\u001b[39m\u001b[38;5;124m'\u001b[39m)\n\u001b[0;32m     18\u001b[0m plt\u001b[38;5;241m.\u001b[39mplot(time2,\u001b[38;5;241m10000\u001b[39m\u001b[38;5;241m*\u001b[39mnp\u001b[38;5;241m.\u001b[39mones(\u001b[38;5;28mlen\u001b[39m(time2)))\n\u001b[0;32m     19\u001b[0m plt\u001b[38;5;241m.\u001b[39mylabel(\u001b[38;5;124m'\u001b[39m\u001b[38;5;124mAltitude (m)\u001b[39m\u001b[38;5;124m'\u001b[39m,fontsize\u001b[38;5;241m=\u001b[39m\u001b[38;5;241m13\u001b[39m)\n",
      "File \u001b[1;32m~\\anaconda3\\Lib\\site-packages\\matplotlib\\pyplot.py:2812\u001b[0m, in \u001b[0;36mplot\u001b[1;34m(scalex, scaley, data, *args, **kwargs)\u001b[0m\n\u001b[0;32m   2810\u001b[0m \u001b[38;5;129m@_copy_docstring_and_deprecators\u001b[39m(Axes\u001b[38;5;241m.\u001b[39mplot)\n\u001b[0;32m   2811\u001b[0m \u001b[38;5;28;01mdef\u001b[39;00m \u001b[38;5;21mplot\u001b[39m(\u001b[38;5;241m*\u001b[39margs, scalex\u001b[38;5;241m=\u001b[39m\u001b[38;5;28;01mTrue\u001b[39;00m, scaley\u001b[38;5;241m=\u001b[39m\u001b[38;5;28;01mTrue\u001b[39;00m, data\u001b[38;5;241m=\u001b[39m\u001b[38;5;28;01mNone\u001b[39;00m, \u001b[38;5;241m*\u001b[39m\u001b[38;5;241m*\u001b[39mkwargs):\n\u001b[1;32m-> 2812\u001b[0m     \u001b[38;5;28;01mreturn\u001b[39;00m gca()\u001b[38;5;241m.\u001b[39mplot(\n\u001b[0;32m   2813\u001b[0m         \u001b[38;5;241m*\u001b[39margs, scalex\u001b[38;5;241m=\u001b[39mscalex, scaley\u001b[38;5;241m=\u001b[39mscaley,\n\u001b[0;32m   2814\u001b[0m         \u001b[38;5;241m*\u001b[39m\u001b[38;5;241m*\u001b[39m({\u001b[38;5;124m\"\u001b[39m\u001b[38;5;124mdata\u001b[39m\u001b[38;5;124m\"\u001b[39m: data} \u001b[38;5;28;01mif\u001b[39;00m data \u001b[38;5;129;01mis\u001b[39;00m \u001b[38;5;129;01mnot\u001b[39;00m \u001b[38;5;28;01mNone\u001b[39;00m \u001b[38;5;28;01melse\u001b[39;00m {}), \u001b[38;5;241m*\u001b[39m\u001b[38;5;241m*\u001b[39mkwargs)\n",
      "File \u001b[1;32m~\\anaconda3\\Lib\\site-packages\\matplotlib\\axes\\_axes.py:1688\u001b[0m, in \u001b[0;36mAxes.plot\u001b[1;34m(self, scalex, scaley, data, *args, **kwargs)\u001b[0m\n\u001b[0;32m   1445\u001b[0m \u001b[38;5;250m\u001b[39m\u001b[38;5;124;03m\"\"\"\u001b[39;00m\n\u001b[0;32m   1446\u001b[0m \u001b[38;5;124;03mPlot y versus x as lines and/or markers.\u001b[39;00m\n\u001b[0;32m   1447\u001b[0m \n\u001b[1;32m   (...)\u001b[0m\n\u001b[0;32m   1685\u001b[0m \u001b[38;5;124;03m(``'green'``) or hex strings (``'#008000'``).\u001b[39;00m\n\u001b[0;32m   1686\u001b[0m \u001b[38;5;124;03m\"\"\"\u001b[39;00m\n\u001b[0;32m   1687\u001b[0m kwargs \u001b[38;5;241m=\u001b[39m cbook\u001b[38;5;241m.\u001b[39mnormalize_kwargs(kwargs, mlines\u001b[38;5;241m.\u001b[39mLine2D)\n\u001b[1;32m-> 1688\u001b[0m lines \u001b[38;5;241m=\u001b[39m [\u001b[38;5;241m*\u001b[39m\u001b[38;5;28mself\u001b[39m\u001b[38;5;241m.\u001b[39m_get_lines(\u001b[38;5;241m*\u001b[39margs, data\u001b[38;5;241m=\u001b[39mdata, \u001b[38;5;241m*\u001b[39m\u001b[38;5;241m*\u001b[39mkwargs)]\n\u001b[0;32m   1689\u001b[0m \u001b[38;5;28;01mfor\u001b[39;00m line \u001b[38;5;129;01min\u001b[39;00m lines:\n\u001b[0;32m   1690\u001b[0m     \u001b[38;5;28mself\u001b[39m\u001b[38;5;241m.\u001b[39madd_line(line)\n",
      "File \u001b[1;32m~\\anaconda3\\Lib\\site-packages\\matplotlib\\axes\\_base.py:311\u001b[0m, in \u001b[0;36m_process_plot_var_args.__call__\u001b[1;34m(self, data, *args, **kwargs)\u001b[0m\n\u001b[0;32m    309\u001b[0m     this \u001b[38;5;241m+\u001b[39m\u001b[38;5;241m=\u001b[39m args[\u001b[38;5;241m0\u001b[39m],\n\u001b[0;32m    310\u001b[0m     args \u001b[38;5;241m=\u001b[39m args[\u001b[38;5;241m1\u001b[39m:]\n\u001b[1;32m--> 311\u001b[0m \u001b[38;5;28;01myield from\u001b[39;00m \u001b[38;5;28mself\u001b[39m\u001b[38;5;241m.\u001b[39m_plot_args(\n\u001b[0;32m    312\u001b[0m     this, kwargs, ambiguous_fmt_datakey\u001b[38;5;241m=\u001b[39mambiguous_fmt_datakey)\n",
      "File \u001b[1;32m~\\anaconda3\\Lib\\site-packages\\matplotlib\\axes\\_base.py:504\u001b[0m, in \u001b[0;36m_process_plot_var_args._plot_args\u001b[1;34m(self, tup, kwargs, return_kwargs, ambiguous_fmt_datakey)\u001b[0m\n\u001b[0;32m    501\u001b[0m     \u001b[38;5;28mself\u001b[39m\u001b[38;5;241m.\u001b[39maxes\u001b[38;5;241m.\u001b[39myaxis\u001b[38;5;241m.\u001b[39mupdate_units(y)\n\u001b[0;32m    503\u001b[0m \u001b[38;5;28;01mif\u001b[39;00m x\u001b[38;5;241m.\u001b[39mshape[\u001b[38;5;241m0\u001b[39m] \u001b[38;5;241m!=\u001b[39m y\u001b[38;5;241m.\u001b[39mshape[\u001b[38;5;241m0\u001b[39m]:\n\u001b[1;32m--> 504\u001b[0m     \u001b[38;5;28;01mraise\u001b[39;00m \u001b[38;5;167;01mValueError\u001b[39;00m(\u001b[38;5;124mf\u001b[39m\u001b[38;5;124m\"\u001b[39m\u001b[38;5;124mx and y must have same first dimension, but \u001b[39m\u001b[38;5;124m\"\u001b[39m\n\u001b[0;32m    505\u001b[0m                      \u001b[38;5;124mf\u001b[39m\u001b[38;5;124m\"\u001b[39m\u001b[38;5;124mhave shapes \u001b[39m\u001b[38;5;132;01m{\u001b[39;00mx\u001b[38;5;241m.\u001b[39mshape\u001b[38;5;132;01m}\u001b[39;00m\u001b[38;5;124m and \u001b[39m\u001b[38;5;132;01m{\u001b[39;00my\u001b[38;5;241m.\u001b[39mshape\u001b[38;5;132;01m}\u001b[39;00m\u001b[38;5;124m\"\u001b[39m)\n\u001b[0;32m    506\u001b[0m \u001b[38;5;28;01mif\u001b[39;00m x\u001b[38;5;241m.\u001b[39mndim \u001b[38;5;241m>\u001b[39m \u001b[38;5;241m2\u001b[39m \u001b[38;5;129;01mor\u001b[39;00m y\u001b[38;5;241m.\u001b[39mndim \u001b[38;5;241m>\u001b[39m \u001b[38;5;241m2\u001b[39m:\n\u001b[0;32m    507\u001b[0m     \u001b[38;5;28;01mraise\u001b[39;00m \u001b[38;5;167;01mValueError\u001b[39;00m(\u001b[38;5;124mf\u001b[39m\u001b[38;5;124m\"\u001b[39m\u001b[38;5;124mx and y can be no greater than 2D, but have \u001b[39m\u001b[38;5;124m\"\u001b[39m\n\u001b[0;32m    508\u001b[0m                      \u001b[38;5;124mf\u001b[39m\u001b[38;5;124m\"\u001b[39m\u001b[38;5;124mshapes \u001b[39m\u001b[38;5;132;01m{\u001b[39;00mx\u001b[38;5;241m.\u001b[39mshape\u001b[38;5;132;01m}\u001b[39;00m\u001b[38;5;124m and \u001b[39m\u001b[38;5;132;01m{\u001b[39;00my\u001b[38;5;241m.\u001b[39mshape\u001b[38;5;132;01m}\u001b[39;00m\u001b[38;5;124m\"\u001b[39m)\n",
      "\u001b[1;31mValueError\u001b[0m: x and y must have same first dimension, but have shapes (41776,) and (4144,)"
     ]
    }
   ],
   "source": [
    "#FIRST PLOT\n",
    "plt.figure()\n",
    "ax2=plt.subplot(212)\n",
    "figsize=(20,4)\n",
    "   \n",
    "plt.plot(time, COD_values,'-x',c='black')     \n",
    "plt.plot(time, rolling,'-x',c='purple') \n",
    "#plt.text(0.01, 0.75, \"D)\", fontweight=\"bold\", fontsize=13 ,transform=ax7.transAxes)\n",
    "plt.ylabel('COD (adimensional)',fontsize=13)\n",
    "\n",
    "\n",
    "\n",
    "#SECOND PLOT\n",
    "\n",
    "ax1=plt.subplot(211,sharex=ax2)\n",
    "figsize=(20,4)\n",
    "plt.plot(time2,HT_values ,'-x',color='black')\n",
    "plt.plot(time2,10000*np.ones(len(time2)))\n",
    "plt.ylabel('Altitude (m)',fontsize=13)\n",
    "\n",
    "\n"
   ]
  }
 ],
 "metadata": {
  "kernelspec": {
   "display_name": "Python 3 (ipykernel)",
   "language": "python",
   "name": "python3"
  },
  "language_info": {
   "codemirror_mode": {
    "name": "ipython",
    "version": 3
   },
   "file_extension": ".py",
   "mimetype": "text/x-python",
   "name": "python",
   "nbconvert_exporter": "python",
   "pygments_lexer": "ipython3",
   "version": "3.11.3"
  }
 },
 "nbformat": 4,
 "nbformat_minor": 5
}

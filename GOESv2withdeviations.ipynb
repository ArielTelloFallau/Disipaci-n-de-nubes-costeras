{
 "cells": [
  {
   "cell_type": "code",
   "execution_count": null,
   "id": "46c93ad1-a088-495f-b75e-3724b01ca694",
   "metadata": {},
   "outputs": [],
   "source": []
  },
  {
   "cell_type": "code",
   "execution_count": 1,
   "id": "9272a462-135b-4ce9-af84-308e91e4af6e",
   "metadata": {},
   "outputs": [],
   "source": [
    "import xarray as xr\n",
    "import numpy as np\n",
    "import datetime \n",
    "import numpy as np\n",
    "import mpmath as mp\n",
    "import pandas as pd\n",
    "from mpl_toolkits.mplot3d import Axes3D\n",
    "import matplotlib.pyplot as plt\n",
    "import matplotlib.dates as mdates\n",
    "import copy\n",
    "from sklearn.preprocessing import StandardScaler\n",
    "%matplotlib qt\n",
    "\n",
    "from matplotlib.dates import DayLocator, HourLocator, DateFormatter, drange\n",
    "import os \n",
    "from os import listdir\n",
    "from os.path import isfile, join"
   ]
  },
  {
   "cell_type": "code",
   "execution_count": 2,
   "id": "2c18ecbb-b779-43df-8bab-e11a0e524a1e",
   "metadata": {},
   "outputs": [],
   "source": [
    "\"get directory 2.0\"\n",
    "\n",
    "def get_directory_contents(folder):\n",
    "    items = os.listdir(folder)\n",
    "    files = [item for item in items if os.path.isfile(os.path.join(folder, item))]\n",
    "    folders = [item for item in items if os.path.isdir(os.path.join(folder, item))]\n",
    "    \n",
    "    return {'files': files, 'folders': folders}"
   ]
  },
  {
   "cell_type": "markdown",
   "id": "861490c5-d33a-4e4a-a725-76e3df638a7f",
   "metadata": {},
   "source": [
    "### ITERATION"
   ]
  },
  {
   "cell_type": "code",
   "execution_count": 3,
   "id": "1a20f08b-4c59-4b52-a72d-db6f41c5d02f",
   "metadata": {
    "tags": []
   },
   "outputs": [
    {
     "name": "stdout",
     "output_type": "stream",
     "text": [
      "['8337724029', '8337724237', '8337724521', '8337725383', '8337725880', '8337725881', '8337726004', '8337726005', '8337726006', '8337726017', '8337726731', '8337726732', '8337726781', '8337726782']\n",
      "['C:/Users/enclab01/Desktop/THESIS/Datos Satelitales/goes/second iteration/agosto 2022/8337724029', 'C:/Users/enclab01/Desktop/THESIS/Datos Satelitales/goes/second iteration/agosto 2022/8337724237', 'C:/Users/enclab01/Desktop/THESIS/Datos Satelitales/goes/second iteration/agosto 2022/8337724521', 'C:/Users/enclab01/Desktop/THESIS/Datos Satelitales/goes/second iteration/agosto 2022/8337725383', 'C:/Users/enclab01/Desktop/THESIS/Datos Satelitales/goes/second iteration/agosto 2022/8337725880', 'C:/Users/enclab01/Desktop/THESIS/Datos Satelitales/goes/second iteration/agosto 2022/8337725881', 'C:/Users/enclab01/Desktop/THESIS/Datos Satelitales/goes/second iteration/agosto 2022/8337726004', 'C:/Users/enclab01/Desktop/THESIS/Datos Satelitales/goes/second iteration/agosto 2022/8337726005', 'C:/Users/enclab01/Desktop/THESIS/Datos Satelitales/goes/second iteration/agosto 2022/8337726006', 'C:/Users/enclab01/Desktop/THESIS/Datos Satelitales/goes/second iteration/agosto 2022/8337726017', 'C:/Users/enclab01/Desktop/THESIS/Datos Satelitales/goes/second iteration/agosto 2022/8337726731', 'C:/Users/enclab01/Desktop/THESIS/Datos Satelitales/goes/second iteration/agosto 2022/8337726732', 'C:/Users/enclab01/Desktop/THESIS/Datos Satelitales/goes/second iteration/agosto 2022/8337726781', 'C:/Users/enclab01/Desktop/THESIS/Datos Satelitales/goes/second iteration/agosto 2022/8337726782']\n"
     ]
    }
   ],
   "source": [
    "#path_general=\"C:/Users/enclab01/Desktop/THESIS/Datos Satelitales/goes/second iteration/septiembre 2022\"\n",
    "#path_general=\"C:/Users/enclab01/Desktop/THESIS/Datos Satelitales/goes/second iteration/agosto 2022\"\n",
    "path_general=\"C:/Users/enclab01/Desktop/THESIS/Datos Satelitales/goes/eventos de la jolla\"\n",
    "\n",
    "\n",
    "contents = get_directory_contents(path_general)\n",
    "subfolders=contents['folders']\n",
    "\n",
    "newlistt=[]\n",
    "for item in subfolders:\n",
    "    newlistt.append(path_general+'/'+str(item))\n",
    "\n",
    "print(subfolders)\n",
    "print(newlistt)"
   ]
  },
  {
   "cell_type": "markdown",
   "id": "017dc0e9-ff90-4abe-9589-47bf6de8a6a7",
   "metadata": {},
   "source": [
    "FUNCION PRINCIPAL"
   ]
  },
  {
   "cell_type": "code",
   "execution_count": 4,
   "id": "8452311b-26d1-4b25-94f8-85fe29241b78",
   "metadata": {
    "tags": []
   },
   "outputs": [],
   "source": [
    "import GOES\n",
    "\n",
    "def satellitedata(indice,newlist):\n",
    "\n",
    "    COD_values=[]\n",
    "    COD_deviations=[]\n",
    "    timeCOD=[]\n",
    "\n",
    "    DQF_values=[]\n",
    "    DQF_deviations=[]\n",
    "    timeDQF=[]\n",
    "\n",
    "     #for i in np.arange(1,2):\n",
    "    for i in np.arange(0,len(newlist)):   \n",
    "        \n",
    "        try:\n",
    "            'COD'\n",
    "            ds = GOES.open_dataset(newlist[i])\n",
    "    \n",
    "            COD, LonCen, LatCen = ds.image('COD', lonlat='center')\n",
    "            \n",
    "            #x, y = GOES.find_pixel_of_coordinate(LonCen, LatCen, -119.5, 33.2) #San Nicolas Island\n",
    "            #x, y = GOES.find_pixel_of_coordinate(LonCen, LatCen, -121.8, 36.3) #Point Sur\n",
    "            x, y = GOES.find_pixel_of_coordinate(LonCen, LatCen, -117.23, 32.88) #La jolla\n",
    "            \n",
    "            'DQF'\n",
    "            DQF, LonCen, LatCen = ds.image('DQF', lonlat='center')\n",
    "            \n",
    "       \n",
    "    \n",
    "    \n",
    "            'Iteracion para un conjunto de datos'\n",
    "            vals=[]\n",
    "            valsDQF=[]\n",
    "    \n",
    "            for i in np.arange(-1,1):\n",
    "                for j in np.arange(-1,1):\n",
    "                    vals.append(COD.data[y+i,x+j])\n",
    "                    valsDQF.append(DQF.data[y+i,x+j])\n",
    "\n",
    "            promedio=np.nanmean(vals)\n",
    "            desviacion=np.nanstd(vals)\n",
    "            COD_values.append(promedio)\n",
    "            COD_deviations.append(desviacion)\n",
    "            timeCOD.append(COD.time_bounds.data[0])\n",
    "    \n",
    "            promedioDQF=np.nanmean(valsDQF)\n",
    "            desviacionDQF=np.nanstd(valsDQF)\n",
    "            DQF_values.append(promedioDQF)\n",
    "            DQF_deviations.append(desviacionDQF)\n",
    "            timeDQF.append(DQF.time_bounds.data[0])\n",
    "        \n",
    "        except:\n",
    "            COD_values.append(np.nan)\n",
    "            COD_deviations.append(np.nan)\n",
    "            timeCOD.append(np.nan)\n",
    "            DQF_values.append(np.nan)\n",
    "            DQF_deviations.append(np.nan)\n",
    "            timeDQF.append(np.nan)\n",
    "            \n",
    "            \n",
    "            \n",
    "    'Saving data'\n",
    "     #print(timeCOD)\n",
    "     #print(COD_values)\n",
    "     #print(COD_deviations)\n",
    "     #print(DQF_values)\n",
    "     #print(DQF_deviations)\n",
    "    \n",
    "    a1={'Dates_and_Hours':  timeCOD, 'COD': COD_values,'COD deviations': COD_deviations, 'DQF':DQF_values, 'DQF deviations': DQF_deviations}\n",
    "    data_of_that_day= pd.DataFrame (a1, columns = ['Dates_and_Hours','COD', 'COD deviations','DQF', 'DQF deviations'])\n",
    "    print(data_of_that_day)\n",
    "    \n",
    "    if indice<10:\n",
    "        data_of_that_day.to_csv('Mes'+str(0)+str(indice+1)+\".txt\", index=False, sep='\\t')\n",
    "    else:\n",
    "        data_of_that_day.to_csv('Mes'+str(indice+1)+\".txt\", index=False, sep='\\t')\n",
    "        \n",
    "        \n",
    "    return \n",
    "    "
   ]
  },
  {
   "cell_type": "code",
   "execution_count": 5,
   "id": "4f9f8818-8e56-4c5c-a560-41a81d7b879c",
   "metadata": {},
   "outputs": [
    {
     "name": "stdout",
     "output_type": "stream",
     "text": [
      "C:/Users/enclab01/Desktop/THESIS/Datos Satelitales/goes/second iteration/agosto 2022/8337726006/001\n",
      "               Dates_and_Hours  COD  COD deviations   DQF  DQF deviations\n",
      "0   2022-08-18 01:11:17.730558  NaN             NaN   6.0             0.0\n",
      "1   2022-08-18 01:16:17.730409  NaN             NaN   6.0             0.0\n",
      "2   2022-08-18 01:21:17.732062  NaN             NaN   6.0             0.0\n",
      "3   2022-08-18 01:26:17.731909  NaN             NaN   6.0             0.0\n",
      "4   2022-08-18 01:31:17.731754  NaN             NaN   6.0             0.0\n",
      "..                         ...  ...             ...   ...             ...\n",
      "495 2022-08-20 12:46:17.673610  NaN             NaN  15.0             0.0\n",
      "496 2022-08-20 12:51:17.673519  NaN             NaN  15.0             0.0\n",
      "497 2022-08-20 12:56:17.673433  NaN             NaN  15.0             0.0\n",
      "498 2022-08-20 13:01:17.673359  NaN             NaN  15.0             0.0\n",
      "499 2022-08-20 13:06:17.673289  NaN             NaN  15.0             0.0\n",
      "\n",
      "[500 rows x 5 columns]\n",
      "C:/Users/enclab01/Desktop/THESIS/Datos Satelitales/goes/second iteration/agosto 2022/8337726017/001\n",
      "               Dates_and_Hours  COD  COD deviations   DQF  DQF deviations\n",
      "0   2022-08-20 13:11:17.675021  NaN             NaN  15.0             0.0\n",
      "1   2022-08-20 13:16:17.674952  NaN             NaN  15.0             0.0\n",
      "2   2022-08-20 13:21:17.674894  NaN             NaN  15.0             0.0\n",
      "3   2022-08-20 13:26:17.674847  NaN             NaN  15.0             0.0\n",
      "4   2022-08-20 13:31:17.674802  NaN             NaN  15.0             0.0\n",
      "..                         ...  ...             ...   ...             ...\n",
      "495 2022-08-22 18:26:17.701168  NaN             NaN   6.0             0.0\n",
      "496 2022-08-22 18:31:17.701359  NaN             NaN   6.0             0.0\n",
      "497 2022-08-22 18:36:17.701545  NaN             NaN   6.0             0.0\n",
      "498 2022-08-22 18:41:17.701727  NaN             NaN   6.0             0.0\n",
      "499 2022-08-22 18:46:17.703720  NaN             NaN   6.0             0.0\n",
      "\n",
      "[500 rows x 5 columns]\n",
      "C:/Users/enclab01/Desktop/THESIS/Datos Satelitales/goes/second iteration/agosto 2022/8337726731/001\n",
      "               Dates_and_Hours  COD  COD deviations  DQF  DQF deviations\n",
      "0   2022-08-22 18:51:17.703918  NaN             NaN  6.0             0.0\n",
      "1   2022-08-22 18:56:17.704116  NaN             NaN  6.0             0.0\n",
      "2   2022-08-22 19:01:17.704311  NaN             NaN  6.0             0.0\n",
      "3   2022-08-22 19:06:17.704510  NaN             NaN  6.0             0.0\n",
      "4   2022-08-22 19:11:17.706524  NaN             NaN  6.0             0.0\n",
      "..                         ...  ...             ...  ...             ...\n",
      "495 2022-08-25 01:01:17.738214  NaN             NaN  6.0             0.0\n",
      "496 2022-08-25 01:06:17.738103  NaN             NaN  6.0             0.0\n",
      "497 2022-08-25 01:11:17.739793  NaN             NaN  6.0             0.0\n",
      "498 2022-08-25 01:16:17.739672  NaN             NaN  6.0             0.0\n",
      "499 2022-08-25 01:21:17.739542  NaN             NaN  6.0             0.0\n",
      "\n",
      "[500 rows x 5 columns]\n",
      "C:/Users/enclab01/Desktop/THESIS/Datos Satelitales/goes/second iteration/agosto 2022/8337726732/001\n",
      "               Dates_and_Hours  COD  COD deviations  DQF  DQF deviations\n",
      "0   2022-08-25 01:26:17.739399  NaN             NaN  6.0             0.0\n",
      "1   2022-08-25 01:31:17.739246  NaN             NaN  6.0             0.0\n",
      "2   2022-08-25 01:36:17.740883  NaN             NaN  6.0             0.0\n",
      "3   2022-08-25 01:41:17.740708  NaN             NaN  6.0             0.0\n",
      "4   2022-08-25 01:46:17.740530  NaN             NaN  6.0             0.0\n",
      "..                         ...  ...             ...  ...             ...\n",
      "419 2022-08-27 00:21:17.736303  NaN             NaN  6.0             0.0\n",
      "420 2022-08-27 00:26:17.736257  NaN             NaN  6.0             0.0\n",
      "421 2022-08-27 00:31:17.738005  NaN             NaN  6.0             0.0\n",
      "422 2022-08-27 00:36:17.737937  NaN             NaN  6.0             0.0\n",
      "423 2022-08-27 00:41:17.737858  NaN             NaN  6.0             0.0\n",
      "\n",
      "[424 rows x 5 columns]\n",
      "C:/Users/enclab01/Desktop/THESIS/Datos Satelitales/goes/second iteration/agosto 2022/8337726781/001\n",
      "               Dates_and_Hours       COD  COD deviations   DQF  DQF deviations\n",
      "0   2022-08-27 13:06:17.676306       NaN             NaN  11.0        4.000000\n",
      "1   2022-08-27 13:11:17.676286       NaN             NaN   9.0        3.464102\n",
      "2   2022-08-27 13:16:17.676269       NaN             NaN  13.0        3.464102\n",
      "3   2022-08-27 13:21:17.676259  3.833359             0.0   9.5        5.894913\n",
      "4   2022-08-27 13:26:17.676258       NaN             NaN  15.0        0.000000\n",
      "..                         ...       ...             ...   ...             ...\n",
      "495 2022-08-29 18:21:17.703745       NaN             NaN   6.0        0.000000\n",
      "496 2022-08-29 18:26:17.703968       NaN             NaN   6.0        0.000000\n",
      "497 2022-08-29 18:31:17.704195       NaN             NaN   6.0        0.000000\n",
      "498 2022-08-29 18:36:17.704429       NaN             NaN   6.0        0.000000\n",
      "499 2022-08-29 18:41:17.706469       NaN             NaN   6.0        0.000000\n",
      "\n",
      "[500 rows x 5 columns]\n",
      "C:/Users/enclab01/Desktop/THESIS/Datos Satelitales/goes/second iteration/agosto 2022/8337726782/001\n",
      "               Dates_and_Hours  COD  COD deviations   DQF  DQF deviations\n",
      "0   2022-08-29 18:46:17.706699  NaN             NaN   6.0        0.000000\n",
      "1   2022-08-29 18:51:17.706924  NaN             NaN   6.0        0.000000\n",
      "2   2022-08-29 18:56:17.707149  NaN             NaN   6.0        0.000000\n",
      "3   2022-08-29 19:01:17.707379  NaN             NaN   6.0        0.000000\n",
      "4   2022-08-29 19:06:17.707614  NaN             NaN   6.0        0.000000\n",
      "..                         ...  ...             ...   ...             ...\n",
      "140 2022-08-30 12:26:17.665353  NaN             NaN  13.0        3.464102\n",
      "141 2022-08-30 14:01:17.669189  NaN             NaN  15.0        0.000000\n",
      "142 2022-08-30 14:11:17.671022  NaN             NaN  15.0        0.000000\n",
      "143 2022-08-30 14:26:17.671140  NaN             NaN   6.0        0.000000\n",
      "144 2022-08-30 14:51:17.673326  NaN             NaN   6.0        0.000000\n",
      "\n",
      "[145 rows x 5 columns]\n"
     ]
    }
   ],
   "source": [
    "#for i in np.arange(len(newlistt)-1,len(newlistt)):\n",
    "for i in np.arange(8,len(newlistt)):\n",
    "#for i in np.arange(0,1):    \n",
    "    path_new=newlistt[i]+\"/\"+\"001\"\n",
    "    print(path_new)\n",
    "    contents_subfolder = get_directory_contents(path_new)\n",
    "    \n",
    "    singlefiles=contents_subfolder['files']\n",
    "    \n",
    "    \n",
    "    \n",
    "    finalpaths=[]\n",
    "    for j in np.arange(0,len(singlefiles)):\n",
    "        finalpaths.append(path_new+\"/\"+singlefiles[j])\n",
    "        \n",
    "            \n",
    "    satellitedata(i,finalpaths)"
   ]
  },
  {
   "cell_type": "code",
   "execution_count": null,
   "id": "012d0d05-d2bd-41c7-85b9-b8f4daeef85b",
   "metadata": {},
   "outputs": [],
   "source": []
  },
  {
   "cell_type": "code",
   "execution_count": null,
   "id": "b1904ee3-be08-4f22-8107-d2150c4ed66a",
   "metadata": {},
   "outputs": [],
   "source": []
  },
  {
   "cell_type": "code",
   "execution_count": 6,
   "id": "3ea8f0f6-d067-488e-ae6d-f96efac3f005",
   "metadata": {},
   "outputs": [
    {
     "data": {
      "text/plain": [
       "'THE REST IS NOT USEFUL RIGHT NOW'"
      ]
     },
     "execution_count": 6,
     "metadata": {},
     "output_type": "execute_result"
    }
   ],
   "source": [
    "\"THE REST IS NOT USEFUL RIGHT NOW\""
   ]
  },
  {
   "cell_type": "code",
   "execution_count": 7,
   "id": "ae223099-ae20-4be4-a9c7-af2f910f088c",
   "metadata": {},
   "outputs": [
    {
     "ename": "NameError",
     "evalue": "name 'd' is not defined",
     "output_type": "error",
     "traceback": [
      "\u001b[1;31m---------------------------------------------------------------------------\u001b[0m",
      "\u001b[1;31mNameError\u001b[0m                                 Traceback (most recent call last)",
      "Cell \u001b[1;32mIn[7], line 1\u001b[0m\n\u001b[1;32m----> 1\u001b[0m d\n",
      "\u001b[1;31mNameError\u001b[0m: name 'd' is not defined"
     ]
    }
   ],
   "source": [
    "d"
   ]
  },
  {
   "cell_type": "markdown",
   "id": "71f14cec-8510-41ec-aead-bba0172f309c",
   "metadata": {},
   "source": [
    "# VISUALIZE DATA"
   ]
  },
  {
   "cell_type": "code",
   "execution_count": null,
   "id": "fc732cdc-ac28-48ac-a0c9-54a752dbf724",
   "metadata": {
    "tags": []
   },
   "outputs": [],
   "source": [
    "from scipy.signal import find_peaks\n",
    "from scipy.signal import find_peaks, savgol_filter\n",
    "\n",
    "indicess = find_peaks(COD_values, height=0.00002, prominence=(None, 4000), width=(0.000002, 4000),  rel_height=1)\n",
    "\n",
    "index=indicess[0]\n",
    "\n",
    "pir=[]\n",
    "widths=[]\n",
    "for m in np.arange(0,len(indicess[1]['peak_heights'])):\n",
    "    pir.append([indicess[0][m],indicess[1]['prominences'][m],indicess[1]['peak_heights'][m],abs(indicess[1]['right_ips'][m]-indicess[1]['left_ips'][m])])\n",
    "    widths.append(indicess[1]['widths'][m])    \n",
    "\n",
    "\n",
    "\n",
    "\n",
    "# Aplicar el filtro Savitzky-Golay para suavizar la señal\n",
    "smoothed_signal = savgol_filter(DQF_values, window_length=5, polyorder=2)  # Ajusta los parámetros según tus necesidades\n",
    "# Encontrar los picos en la señal suavizada\n",
    "peaks2, _ = find_peaks(smoothed_signal, height=0.5)\n",
    "\n",
    "\n",
    "# Calcular la derivada\n",
    "derivative = np.gradient(DQF_values)\n",
    "# Agregar un cero al principio y al final de la derivada para mantener la dimensión\n",
    "derivative_full = np.concatenate(([0], derivative))\n",
    "\n",
    "\n",
    "\n",
    "#Transform a list into a data column\n",
    "df = pd.DataFrame({'col':DQF_values})\n",
    "dqfvalues=df['col']\n",
    "rolling=dqfvalues.rolling(3,center=True).mean()\n",
    "\n",
    "\n",
    "fig, ax = plt.subplots(1)\n",
    "fig.autofmt_xdate()\n",
    "plt.plot(time, COD_values,'-.',c='black') \n",
    "#plt.plot(time, derivative,'-.',c='red') \n",
    "#plt.plot(time, rolling,'-.',c='purple') \n",
    " \n",
    "plt.ylabel('COD Measurements')\n",
    "xfmt = mdates.DateFormatter('%b %d %H:%M')\n",
    "ax.xaxis.set_major_formatter(xfmt)\n",
    "\n",
    "\n",
    "zz=[time[j] for j in index]\n",
    "zzz=[COD_values[j] for j in index]\n",
    "\n",
    "plt.plot(zz,zzz,'x',color='red')\n"
   ]
  },
  {
   "cell_type": "code",
   "execution_count": null,
   "id": "4bac905c-1100-4759-be24-da3d4ea1da27",
   "metadata": {
    "tags": []
   },
   "outputs": [],
   "source": []
  },
  {
   "cell_type": "code",
   "execution_count": null,
   "id": "b1f646e2-4891-465f-986a-e126ec0ac957",
   "metadata": {},
   "outputs": [],
   "source": []
  },
  {
   "cell_type": "code",
   "execution_count": null,
   "id": "129b6d14-ea42-47e6-9db9-277284b57257",
   "metadata": {},
   "outputs": [],
   "source": []
  },
  {
   "cell_type": "code",
   "execution_count": null,
   "id": "372e35f1-9d0f-4c0e-b4bc-6955d282ac12",
   "metadata": {},
   "outputs": [],
   "source": []
  },
  {
   "cell_type": "markdown",
   "id": "166ebbf5-e0f1-4e6d-a20b-b76eb1598f14",
   "metadata": {},
   "source": [
    "CLOUD DETECTION ALGORITHM"
   ]
  },
  {
   "cell_type": "code",
   "execution_count": null,
   "id": "dfc6922e-d162-4e78-81a7-5210152f0fc8",
   "metadata": {
    "tags": []
   },
   "outputs": [],
   "source": [
    "import numpy as np\n",
    "from scipy.signal import find_peaks\n",
    "from datetime import datetime, timedelta\n",
    "from scipy.signal import find_peaks, savgol_filter\n",
    "\n",
    "\n",
    "\n",
    "\n",
    "\n",
    "time_data=time\n",
    "signal_data=DQF_values\n",
    "\n",
    "# Encontrar los picos en la señal\n",
    "peaks, _ = find_peaks(signal_data, width=1 ,height=1)  # Ajusta el umbral según tus necesidades\n",
    "# Aplicar el filtro Savitzky-Golay para suavizar la señal\n",
    "smoothed_signal = savgol_filter(signal_data, window_length=5, polyorder=2)  # Ajusta los parámetros según tus necesidades\n",
    "# Encontrar los picos en la señal suavizada\n",
    "peaks2, _ = find_peaks(smoothed_signal, height=0.5)\n",
    "\n",
    "\n",
    "\n",
    "\n",
    "# Calcular el ancho de los picos en formato de tiempo\n",
    "peak_widths = []\n",
    "for peak_index in peaks:\n",
    "    start_peak = peak_index\n",
    "    while start_peak > 0 and signal_data[start_peak - 1] < signal_data[start_peak]:\n",
    "        start_peak -= 1\n",
    "    end_peak = peak_index\n",
    "    while end_peak < n_points - 1 and signal_data[end_peak + 1] < signal_data[end_peak]:\n",
    "        end_peak += 1\n",
    "    width = time_data[end_peak] - time_data[start_peak]\n",
    "    peak_widths.append(width)\n",
    "\n",
    "# Imprimir los anchos de los picos en formato de tiempo\n",
    "for idx, width in enumerate(peak_widths):\n",
    "    print(f\"Pico {idx + 1}: Ancho = {width}\")"
   ]
  },
  {
   "cell_type": "code",
   "execution_count": null,
   "id": "08828782-eab0-4241-ba95-b470d4a4f55a",
   "metadata": {
    "tags": []
   },
   "outputs": [],
   "source": [
    "import numpy as np\n",
    "from scipy.signal import find_peaks, savgol_filter\n",
    "from datetime import datetime, timedelta\n",
    "import matplotlib.pyplot as plt\n",
    "\n",
    "# Simulación de datos de tiempo y señales\n",
    "np.random.seed(0)\n",
    "n_points = 100\n",
    "time_interval = timedelta(minutes=10)\n",
    "start_time = datetime(2023, 8, 1)\n",
    "\n",
    "time_data = [start_time + i * time_interval for i in range(n_points)]\n",
    "signal_data = np.random.rand(n_points)\n",
    "\n",
    "# Aplicar el filtro Savitzky-Golay para suavizar la señal\n",
    "smoothed_signal = savgol_filter(signal_data, window_length=5, polyorder=2)  # Ajusta los parámetros según tus necesidades\n",
    "\n",
    "# Encontrar los picos en la señal suavizada\n",
    "peaks, _ = find_peaks(smoothed_signal, height=0.5)\n",
    "\n",
    "# Calcular el ancho de los picos en formato de tiempo\n",
    "peak_widths = []\n",
    "for peak_index in peaks:\n",
    "    start_peak = peak_index\n",
    "    while start_peak > 0 and smoothed_signal[start_peak - 1] < smoothed_signal[start_peak]:\n",
    "        start_peak -= 1\n",
    "    end_peak = peak_index\n",
    "    while end_peak < n_points - 1 and smoothed_signal[end_peak + 1] < smoothed_signal[end_peak]:\n",
    "        end_peak += 1\n",
    "    width = time_data[end_peak] - time_data[start_peak]\n",
    "    peak_widths.append(width)\n",
    "\n",
    "# Visualizar la señal original, la señal suavizada y los picos encontrados\n",
    "plt.figure(figsize=(10, 6))\n",
    "plt.plot(time_data, signal_data, label='Señal Original')\n",
    "plt.plot(time_data, smoothed_signal, label='Señal Suavizada')\n",
    "\n",
    "plt.xlabel('Tiempo')\n",
    "plt.ylabel('Valor de la Señal')\n",
    "plt.title('Detección de Picos y Señal Suavizada')\n",
    "plt.legend()\n",
    "plt.show()\n",
    "\n",
    "# Imprimir los anchos de los picos en formato de tiempo\n",
    "for idx, width in enumerate(peak_widths):\n",
    "    print(f\"Pico {idx + 1}: Ancho = {width}\")"
   ]
  },
  {
   "cell_type": "code",
   "execution_count": null,
   "id": "b998c053-7fb2-480c-9386-ab7f9620b82f",
   "metadata": {
    "tags": []
   },
   "outputs": [],
   "source": [
    "\n",
    "\n",
    "\n",
    "\n"
   ]
  },
  {
   "cell_type": "code",
   "execution_count": null,
   "id": "961322cb-b1c8-43fd-b5cd-79204e01b967",
   "metadata": {},
   "outputs": [],
   "source": []
  },
  {
   "cell_type": "code",
   "execution_count": null,
   "id": "96971e1f-a4d0-4696-8367-eec65fb8ff46",
   "metadata": {
    "tags": []
   },
   "outputs": [],
   "source": [
    "plt.figure()\n",
    "plt.plot(np.arange(0,len(DQF_values)), DQF_values,'.')"
   ]
  },
  {
   "cell_type": "code",
   "execution_count": null,
   "id": "63a3eb04-cb51-464b-91f9-f8c199402684",
   "metadata": {
    "tags": []
   },
   "outputs": [],
   "source": [
    "plt.figure()\n",
    "plt.plot(np.arange(0,len(valuess)), valuess)\n",
    "plt.figure()\n",
    "plt.plot(fechas_convertidas, valuess,'.')"
   ]
  },
  {
   "cell_type": "code",
   "execution_count": null,
   "id": "21be3b9e-b124-4451-8541-08022fbff0d1",
   "metadata": {
    "tags": []
   },
   "outputs": [],
   "source": [
    "plt.figure()\n",
    "plt.imshow(cloud_list[0])\n"
   ]
  },
  {
   "cell_type": "code",
   "execution_count": null,
   "id": "3e700643-9a1e-403e-b59c-cda3bf44b1c5",
   "metadata": {
    "tags": []
   },
   "outputs": [],
   "source": [
    "import numpy as np\n",
    "import matplotlib.pyplot as plt\n",
    "import matplotlib.animation as animation\n",
    "\n",
    "\n",
    "# Función para inicializar la animación\n",
    "def init():\n",
    "    pass\n",
    "\n",
    "# Función para actualizar cada cuadro de la animación\n",
    "def update(frame):\n",
    "    plt.clf()  # Limpiar el gráfico\n",
    "    \n",
    "    plt.imshow(cloud_list[frame], cmap='viridis',vmin=0,vmax=16)  # Ingresar el rango de valores admitidos \n",
    "    plt.title(f'Frame {frame + 1}/{len(cloud_list)}')\n",
    "    plt.colorbar(label='DQF Measurement')\n",
    "    \n",
    "    # Agregar un subtítulo\n",
    "    plt.text(0.5, -0.3, str(fechas_convertidas[frame]), transform=plt.gca().transAxes, ha='center')\n",
    "\n",
    "    \n",
    "  \n",
    "\n",
    "# Crear la figura\n",
    "fig = plt.figure()\n",
    "\n",
    "intervalo=200  # En milisegundos\n",
    "\n",
    "# Crear la animación\n",
    "ani = animation.FuncAnimation(fig, update, frames=len(cloud_list), init_func=init, blit=False, interval=intervalo)\n",
    "\n",
    "# Mostrar la animación\n",
    "plt.show()\n",
    "\n",
    "\n",
    "f = r\"C:/Users/enclab01/Desktop/animation2.gif\" \n",
    "writergif = animation.PillowWriter(fps=30) \n",
    "ani.save(f, writer=writergif)\n",
    "\n",
    "\n"
   ]
  },
  {
   "cell_type": "code",
   "execution_count": null,
   "id": "c1f3af55-bcea-41e4-96cc-dc2d24b4d9c2",
   "metadata": {
    "tags": []
   },
   "outputs": [],
   "source": [
    "import matplotlib.animation as animation\n",
    "\n",
    "print(animation.writers.list())"
   ]
  },
  {
   "cell_type": "code",
   "execution_count": null,
   "id": "1d4634bc-e351-41ac-885e-c1b0fab7fddd",
   "metadata": {
    "tags": []
   },
   "outputs": [],
   "source": [
    "plt.figure()\n",
    "#plt.plot(np.arange(0,len(time_diff)), time_diff)\n",
    "plt.plot(np.arange(0,len(time_list)), fechas_convertidas,'x')\n",
    "plt.xlabel('Evento')\n",
    "plt.ylabel('Tiempo de muestreo (min)')"
   ]
  },
  {
   "cell_type": "code",
   "execution_count": null,
   "id": "2572bc15-b083-46c9-8f6e-d378f34a8a4b",
   "metadata": {
    "tags": []
   },
   "outputs": [],
   "source": [
    "from datetime import datetime, timedelta\n",
    "\n",
    "# Definir la fecha de inicio (fecha X)\n",
    "fecha_inicio = datetime(2000, 1, 1, 12, 0, 0)\n",
    "\n",
    "# Datos de tiempo en segundos\n",
    "datos_en_segundos = [123, 3600, 86400]  # Ejemplo de datos en segundos\n",
    "\n",
    "# Convertir los datos en segundos a formato de fecha\n",
    "fechas_convertidas = []\n",
    "\n",
    "for tiempo_segundos in datos_en_segundos:\n",
    "    delta = timedelta(seconds=tiempo_segundos)\n",
    "    fecha_convertida = fecha_inicio + delta\n",
    "    fechas_convertidas.append(fecha_convertida)\n",
    "\n",
    "# Imprimir las fechas convertidas\n",
    "for fecha in fechas_convertidas:\n",
    "    print(fecha)"
   ]
  },
  {
   "cell_type": "code",
   "execution_count": null,
   "id": "38776b96-f31a-435b-a1d5-0d4ed13815be",
   "metadata": {
    "tags": []
   },
   "outputs": [],
   "source": [
    "print(time_list)"
   ]
  },
  {
   "cell_type": "code",
   "execution_count": null,
   "id": "a4875499-415a-4658-b6f6-9b950784a37f",
   "metadata": {},
   "outputs": [],
   "source": []
  },
  {
   "cell_type": "code",
   "execution_count": null,
   "id": "6eef1e5e-14f7-4f1d-a57c-be15d3927bbb",
   "metadata": {
    "tags": []
   },
   "outputs": [],
   "source": [
    "\n",
    "\n",
    "\n",
    "ysize=13\n",
    "\n",
    "ax1=plt.subplot(1,1,1)\n",
    "plt.plot(np.arange(1,len(cloud_list)+1),cloud_list,'-x')\n",
    "ax1.tick_params(axis=\"y\", labelsize=ysize, labelcolor='black')\n",
    "ax1.tick_params(axis=\"x\", labelsize=ysize, labelcolor='black')  \n",
    "plt.ylabel('Cloud Fraction (%)',fontsize=ysize,color='black')  \n",
    "plt.xlabel('Time (day)',fontsize=ysize,color='black') \n",
    "plt.title('Cloud Fraction California: ('+str(latitud)+','+str(longitud)+')', fontsize=15)"
   ]
  },
  {
   "cell_type": "code",
   "execution_count": null,
   "id": "5f1219bb-7af3-4a86-b4f1-c4e27435b2fd",
   "metadata": {
    "tags": []
   },
   "outputs": [],
   "source": [
    "import GOES\n",
    "\n",
    "ds = GOES.open_dataset('C:/Users/enclab01/Desktop/THESIS/Datos Satelitales/goes/8333321207/001/OR_ABI-L2-CMIPC-M6C06_G16_s20232240001172_e20232240003551_c20232240004021.nc')\n",
    "\n",
    "\n",
    "\n",
    "CMI, LonCen, LatCen = ds.image('CMI', lonlat='center')\n",
    "x, y = GOES.find_pixel_of_coordinate(LonCen, LatCen, 33.2, -119.5)\n",
    "print(CMI.data[y,x])\n",
    "\n",
    "# CMI.time_bounds.data[0].strftime('%Y/%m/%d %H:%M UTC')\n",
    "print(CMI.time_bounds.data[0])"
   ]
  }
 ],
 "metadata": {
  "kernelspec": {
   "display_name": "Python 3 (ipykernel)",
   "language": "python",
   "name": "python3"
  },
  "language_info": {
   "codemirror_mode": {
    "name": "ipython",
    "version": 3
   },
   "file_extension": ".py",
   "mimetype": "text/x-python",
   "name": "python",
   "nbconvert_exporter": "python",
   "pygments_lexer": "ipython3",
   "version": "3.11.3"
  }
 },
 "nbformat": 4,
 "nbformat_minor": 5
}

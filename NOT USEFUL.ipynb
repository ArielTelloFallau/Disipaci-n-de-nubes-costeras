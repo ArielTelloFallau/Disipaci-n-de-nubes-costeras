{
 "cells": [
  {
   "cell_type": "code",
   "execution_count": null,
   "id": "3c50c625-924d-4b87-9c21-9974a6cd5a07",
   "metadata": {},
   "outputs": [],
   "source": [
    "'INDICES DATOS ORIGINALES'\n",
    "\n",
    "#indicesdespuestotales=[]\n",
    "#indicesantestotales=[]\n",
    "\n",
    "#for i in np.arange(0,len(index)):\n",
    "#for i in np.arange(0,1):\n",
    "  #  indice_pico=index[i]\n",
    "    #if COD_values[indice_pico]!=55:\n",
    "     #   datosdespues,indicesdespues=encontrar_punto_de_aumento(COD_values,indice_pico)\n",
    "      #  indicesdespuestotales=indicesdespuestotales+indicesdespues\n",
    "        \n",
    "       # datosantes,indicesantes=encontrar_punto_de_disminucion(COD_values,indice_pico)\n",
    "       # indicesantestotales=indicesantestotales+indicesantes\n",
    "        \n",
    "#'INDICES ROLLING AVERAGE'\n",
    "\n",
    "#indicesdespuestotalesrolling=[]\n",
    "#indicesantestotalesrolling=[]\n",
    "\n",
    "#for i in np.arange(0,len(indexrolling)):\n",
    "#for i in np.arange(0,1):\n",
    " #   indice_pico=indexrolling[i]\n",
    "  #  if rolling[indice_pico]<=50:\n",
    "   #     datosdespues,indicesdespues=encontrar_punto_de_aumento(rolling,indice_pico)\n",
    "    #    indicesdespuestotalesrolling=indicesdespuestotalesrolling+indicesdespues\n",
    "        \n",
    "     #   datosantes,indicesantes=encontrar_punto_de_disminucion(rolling,indice_pico)\n",
    "      #  indicesantestotalesrolling=indicesantestotalesrolling+indicesantes\n",
    "     \n",
    "        "
   ]
  },
  {
   "cell_type": "code",
   "execution_count": 42,
   "id": "2a9dd414-c412-4b94-8bdc-3df5baae601d",
   "metadata": {
    "tags": []
   },
   "outputs": [
    {
     "name": "stdout",
     "output_type": "stream",
     "text": [
      "202\n"
     ]
    }
   ],
   "source": [
    "def get_directory(folder):\n",
    "    files= [a for a in listdir(folder) if isfile(join(folder,a))]\n",
    "    \n",
    "    return files\n",
    "import os \n",
    "from os import listdir\n",
    "from os.path import isfile, join\n",
    "#------------------------------------------------------------------------------------------------------\n",
    "\n",
    "#clouds_folder=\"C:/Users/enclab01/Desktop/THESIS/Datos Satelitales/goes/8333321207/001\" #2013\n",
    "\n",
    "\n",
    "'Lets see what happens in September'\n",
    "\n",
    "#clouds_folder=\"C:/Users/enclab01/Desktop/THESIS/Datos Satelitales/goes/second iteration/septiembre 2022/8336472615/001\"\n",
    "#clouds_folder=\"C:/Users/enclab01/Desktop/THESIS/Datos Satelitales/goes/second iteration/septiembre 2022/8336472616/001\"\n",
    "#clouds_folder=\"C:/Users/enclab01/Desktop/THESIS/Datos Satelitales/goes/second iteration/septiembre 2022/8336472915/001\"\n",
    "#clouds_folder=\"C:/Users/enclab01/Desktop/THESIS/Datos Satelitales/goes/second iteration/septiembre 2022/8336472916/001\"\n",
    "#clouds_folder=\"C:/Users/enclab01/Desktop/THESIS/Datos Satelitales/goes/second iteration/septiembre 2022/8336472917/001\"\n",
    "#clouds_folder=\"C:/Users/enclab01/Desktop/THESIS/Datos Satelitales/goes/second iteration/septiembre 2022/8336472918/001\"\n",
    "#clouds_folder=\"C:/Users/enclab01/Desktop/THESIS/Datos Satelitales/goes/second iteration/septiembre 2022/8336472919/001\"\n",
    "#clouds_folder=\"C:/Users/enclab01/Desktop/THESIS/Datos Satelitales/goes/second iteration/septiembre 2022/8336472920/001\"\n",
    "#clouds_folder=\"C:/Users/enclab01/Desktop/THESIS/Datos Satelitales/goes/second iteration/septiembre 2022/8336472921/001\"\n",
    "#clouds_folder=\"C:/Users/enclab01/Desktop/THESIS/Datos Satelitales/goes/second iteration/septiembre 2022/8336472924/001\"\n",
    "#clouds_folder=\"C:/Users/enclab01/Desktop/THESIS/Datos Satelitales/goes/second iteration/septiembre 2022/8336472925/001\"\n",
    "#clouds_folder=\"C:/Users/enclab01/Desktop/THESIS/Datos Satelitales/goes/second iteration/septiembre 2022/8336472961/001\"\n",
    "#clouds_folder=\"C:/Users/enclab01/Desktop/THESIS/Datos Satelitales/goes/second iteration/septiembre 2022/8336472962/001\"\n",
    "#clouds_folder=\"C:/Users/enclab01/Desktop/THESIS/Datos Satelitales/goes/second iteration/septiembre 2022/8336472963/001\"\n",
    "#clouds_folder=\"C:/Users/enclab01/Desktop/THESIS/Datos Satelitales/goes/second iteration/septiembre 2022/8336472964/001\"\n",
    "#clouds_folder=\"C:/Users/enclab01/Desktop/THESIS/Datos Satelitales/goes/second iteration/septiembre 2022/8336472965/001\"\n",
    "clouds_folder=\"C:/Users/enclab01/Desktop/THESIS/Datos Satelitales/goes/second iteration/septiembre 2022/8336472966/001\"\n",
    "\n",
    "\n",
    "list_of_files_clouds=get_directory(clouds_folder)\n",
    "\n",
    "#List with the paths\n",
    "newlist=[]\n",
    "for item in list_of_files_clouds:\n",
    "    newlist.append(clouds_folder+'/'+str(item))\n",
    "print(len(newlist))  "
   ]
  },
  {
   "cell_type": "code",
   "execution_count": 5,
   "id": "55bf4711-8028-43b0-a463-20e67e90e7f8",
   "metadata": {
    "tags": []
   },
   "outputs": [],
   "source": [
    "def encontrar_punto_de_aumento(datos,indice_pico):\n",
    "    \n",
    "    # Inicializa una lista para almacenar los datos desde el pico\n",
    "    datos_despues_del_pico = []\n",
    "    indices_despues_del_pico = []\n",
    "    # Itera a través de los datos posteriores al pico\n",
    "    for i in range(indice_pico, len(datos)):\n",
    "        # Si el valor actual es mayor que el valor anterior, se detiene la disminución\n",
    "        if i > indice_pico and datos[i] > datos[i - 1]:\n",
    "            indices_despues_del_pico.append(i-1)\n",
    "            break\n",
    "        #datos_despues_del_pico.append(datos[i])\n",
    "        #indices_despues_del_pico.append(i)\n",
    "\n",
    "    return datos_despues_del_pico, indices_despues_del_pico\n",
    "\n",
    "def encontrar_punto_de_disminucion(datos,indice_pico):\n",
    "    \n",
    "    # Inicializa una lista para almacenar los datos desde el pico\n",
    "    datos_despues_del_pico = []\n",
    "    indices_despues_del_pico = []\n",
    "    # Itera a través de los datos anteriores al pico\n",
    "    for i in range(0, indice_pico):\n",
    "        # Si el valor actual es mayor que el valor anterior, se detiene la disminución\n",
    "        if indice_pico-i < indice_pico and datos[indice_pico-i] < datos[indice_pico-i - 1]:\n",
    "            indices_despues_del_pico.append(indice_pico-i)\n",
    "            break\n",
    "        datos_despues_del_pico.append(datos[i])\n",
    "        #indices_despues_del_pico.append(i)\n",
    "\n",
    "    return datos_despues_del_pico, indices_despues_del_pico\n",
    "\n"
   ]
  },
  {
   "cell_type": "code",
   "execution_count": null,
   "id": "87aff20d-8518-433e-94ec-57aa90924f65",
   "metadata": {},
   "outputs": [],
   "source": [
    "#-----------------------------------------------------------------------------------------------------------\n",
    "        # Nombre del archivo de datos\n",
    "        #nombrearchivo = newlist[j]\n",
    "        #titles=['HT',      'SPD',      'DIR',    'MET_QC'  ,'RAD1',      'RAD2',      'RAD3',      'CNT1',      'CNT2',      'CNT3',      'SNR1',      'SNR2',      'SNR3', 'QC1', 'QC2', 'QC3'   ]\n",
    "        #data=pd.read_table(nombrearchivo, skiprows=10 ,header=None,names=titles, sep='\\s+') #,parse_dates=['t_utc'])\n",
    "        #data=data.iloc[np.arange(1,len(data)),:] #delete the first row\n",
    "        #data=data.reset_index(drop=True)"
   ]
  },
  {
   "cell_type": "code",
   "execution_count": 2,
   "id": "1fed9fbb-d288-451d-9aa0-88b09faf9300",
   "metadata": {
    "tags": []
   },
   "outputs": [
    {
     "name": "stdout",
     "output_type": "stream",
     "text": [
      "  17 01 06 18 04 27   0\n",
      "2017-01-06 18:04:27\n"
     ]
    }
   ],
   "source": [
    "# Nombre del archivo de datos\n",
    "nombrearchivo = \"C:/Users/enclab01/Desktop/THESIS/Datos Viento/WwWind/pts/2017/006/pts17006.18w\"\n",
    "data=pd.read_table(nombrearchivo) #,parse_dates=['t_utc'])\n",
    "\n",
    "\n",
    "\n",
    "print(data.iloc[np.arange(2,3)][' PTS'][2])\n",
    "dato=data.iloc[np.arange(2,3)][' PTS'][2]\n",
    "\n",
    "numeros = dato.split()\n",
    "numeros_enteros = [int(numero) for numero in numeros]\n",
    "numeros = numeros_enteros\n",
    "from datetime import datetime\n",
    "ano = 2000 + numeros[0]  \n",
    "mes = numeros[1]\n",
    "dia = numeros[2]\n",
    "hora = numeros[3]\n",
    "minuto = numeros[4]\n",
    "segundo = numeros[5]\n",
    "\n",
    "fecha_hora = datetime(ano, mes, dia, hora, minuto, segundo)\n",
    "\n",
    "print(fecha_hora)"
   ]
  }
 ],
 "metadata": {
  "kernelspec": {
   "display_name": "Python 3 (ipykernel)",
   "language": "python",
   "name": "python3"
  },
  "language_info": {
   "codemirror_mode": {
    "name": "ipython",
    "version": 3
   },
   "file_extension": ".py",
   "mimetype": "text/x-python",
   "name": "python",
   "nbconvert_exporter": "python",
   "pygments_lexer": "ipython3",
   "version": "3.11.3"
  }
 },
 "nbformat": 4,
 "nbformat_minor": 5
}
